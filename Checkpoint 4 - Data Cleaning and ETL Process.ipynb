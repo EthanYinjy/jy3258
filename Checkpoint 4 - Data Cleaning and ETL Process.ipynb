{
 "cells": [
  {
   "cell_type": "markdown",
   "id": "02fe3459",
   "metadata": {},
   "source": [
    "# Checkpoint 4 - Data Cleaning and ETL Process"
   ]
  },
  {
   "cell_type": "markdown",
   "id": "14ffbc77",
   "metadata": {},
   "source": [
    "### Import Packages"
   ]
  },
  {
   "cell_type": "code",
   "execution_count": 23,
   "id": "9af96e4c",
   "metadata": {},
   "outputs": [
    {
     "ename": "ModuleNotFoundError",
     "evalue": "No module named 'psycopg2'",
     "output_type": "error",
     "traceback": [
      "\u001b[0;31m---------------------------------------------------------------------------\u001b[0m",
      "\u001b[0;31mModuleNotFoundError\u001b[0m                       Traceback (most recent call last)",
      "\u001b[0;32m/var/folders/l_/gvz5qvmx6tn04331wbg34y4w0000gn/T/ipykernel_28269/1909550857.py\u001b[0m in \u001b[0;36m<module>\u001b[0;34m\u001b[0m\n\u001b[1;32m      2\u001b[0m \u001b[0;32mimport\u001b[0m \u001b[0mnumpy\u001b[0m \u001b[0;32mas\u001b[0m \u001b[0mnp\u001b[0m\u001b[0;34m\u001b[0m\u001b[0;34m\u001b[0m\u001b[0m\n\u001b[1;32m      3\u001b[0m \u001b[0;32mfrom\u001b[0m \u001b[0msqlalchemy\u001b[0m \u001b[0;32mimport\u001b[0m \u001b[0mcreate_engine\u001b[0m\u001b[0;34m\u001b[0m\u001b[0;34m\u001b[0m\u001b[0m\n\u001b[0;32m----> 4\u001b[0;31m \u001b[0;32mimport\u001b[0m \u001b[0mpsycopg2\u001b[0m\u001b[0;34m\u001b[0m\u001b[0;34m\u001b[0m\u001b[0m\n\u001b[0m",
      "\u001b[0;31mModuleNotFoundError\u001b[0m: No module named 'psycopg2'"
     ]
    }
   ],
   "source": [
    "import pandas as pd\n",
    "import numpy as np\n",
    "from sqlalchemy import create_engine"
   ]
  },
  {
   "cell_type": "code",
   "execution_count": 24,
   "id": "e1dee850",
   "metadata": {},
   "outputs": [
    {
     "name": "stdout",
     "output_type": "stream",
     "text": [
      "Collecting psycopg2-binary\n",
      "  Downloading psycopg2_binary-2.9.6-cp39-cp39-macosx_10_9_x86_64.whl (2.2 MB)\n",
      "\u001b[2K     \u001b[90m━━━━━━━━━━━━━━━━━━━━━━━━━━━━━━━━━━━━━━━━\u001b[0m \u001b[32m2.2/2.2 MB\u001b[0m \u001b[31m3.9 MB/s\u001b[0m eta \u001b[36m0:00:00\u001b[0ma \u001b[36m0:00:01\u001b[0m\n",
      "\u001b[?25hInstalling collected packages: psycopg2-binary\n",
      "Successfully installed psycopg2-binary-2.9.6\n",
      "Note: you may need to restart the kernel to use updated packages.\n"
     ]
    }
   ],
   "source": [
    "pip install psycopg2-binary"
   ]
  },
  {
   "cell_type": "markdown",
   "id": "edb450c2",
   "metadata": {},
   "source": [
    "### Import Dataset"
   ]
  },
  {
   "cell_type": "code",
   "execution_count": 12,
   "id": "e7cf5b68",
   "metadata": {},
   "outputs": [
    {
     "name": "stdout",
     "output_type": "stream",
     "text": [
      "<class 'pandas.core.frame.DataFrame'>\n",
      "Int64Index: 29193782 entries, 0 to 4078317\n",
      "Data columns (total 61 columns):\n",
      " #   Column                                   Dtype  \n",
      "---  ------                                   -----  \n",
      " 0   FlightDate                               object \n",
      " 1   Airline                                  object \n",
      " 2   Origin                                   object \n",
      " 3   Dest                                     object \n",
      " 4   Cancelled                                bool   \n",
      " 5   Diverted                                 bool   \n",
      " 6   CRSDepTime                               int64  \n",
      " 7   DepTime                                  float64\n",
      " 8   DepDelayMinutes                          float64\n",
      " 9   DepDelay                                 float64\n",
      " 10  ArrTime                                  float64\n",
      " 11  ArrDelayMinutes                          float64\n",
      " 12  AirTime                                  float64\n",
      " 13  CRSElapsedTime                           float64\n",
      " 14  ActualElapsedTime                        float64\n",
      " 15  Distance                                 float64\n",
      " 16  Year                                     int64  \n",
      " 17  Quarter                                  int64  \n",
      " 18  Month                                    int64  \n",
      " 19  DayofMonth                               int64  \n",
      " 20  DayOfWeek                                int64  \n",
      " 21  Marketing_Airline_Network                object \n",
      " 22  Operated_or_Branded_Code_Share_Partners  object \n",
      " 23  DOT_ID_Marketing_Airline                 int64  \n",
      " 24  IATA_Code_Marketing_Airline              object \n",
      " 25  Flight_Number_Marketing_Airline          int64  \n",
      " 26  Operating_Airline                        object \n",
      " 27  DOT_ID_Operating_Airline                 int64  \n",
      " 28  IATA_Code_Operating_Airline              object \n",
      " 29  Tail_Number                              object \n",
      " 30  Flight_Number_Operating_Airline          int64  \n",
      " 31  OriginAirportID                          int64  \n",
      " 32  OriginAirportSeqID                       int64  \n",
      " 33  OriginCityMarketID                       int64  \n",
      " 34  OriginCityName                           object \n",
      " 35  OriginState                              object \n",
      " 36  OriginStateFips                          int64  \n",
      " 37  OriginStateName                          object \n",
      " 38  OriginWac                                int64  \n",
      " 39  DestAirportID                            int64  \n",
      " 40  DestAirportSeqID                         int64  \n",
      " 41  DestCityMarketID                         int64  \n",
      " 42  DestCityName                             object \n",
      " 43  DestState                                object \n",
      " 44  DestStateFips                            int64  \n",
      " 45  DestStateName                            object \n",
      " 46  DestWac                                  int64  \n",
      " 47  DepDel15                                 float64\n",
      " 48  DepartureDelayGroups                     float64\n",
      " 49  DepTimeBlk                               object \n",
      " 50  TaxiOut                                  float64\n",
      " 51  WheelsOff                                float64\n",
      " 52  WheelsOn                                 float64\n",
      " 53  TaxiIn                                   float64\n",
      " 54  CRSArrTime                               int64  \n",
      " 55  ArrDelay                                 float64\n",
      " 56  ArrDel15                                 float64\n",
      " 57  ArrivalDelayGroups                       float64\n",
      " 58  ArrTimeBlk                               object \n",
      " 59  DistanceGroup                            int64  \n",
      " 60  DivAirportLandings                       float64\n",
      "dtypes: bool(2), float64(19), int64(22), object(18)\n",
      "memory usage: 13.1+ GB\n"
     ]
    }
   ],
   "source": [
    "# import dataset \n",
    "flights_2018 = pd.read_csv('Combined_Flights_2018.csv')\n",
    "flights_2019 = pd.read_csv('Combined_Flights_2019.csv')\n",
    "flights_2020 = pd.read_csv('Combined_Flights_2020.csv')\n",
    "flights_2021 = pd.read_csv('Combined_Flights_2021.csv')\n",
    "flights_2022 = pd.read_csv('Combined_Flights_2022.csv')\n",
    "\n",
    "# combine dataset \n",
    "df = pd.concat([flights_2018, flights_2019,flights_2020,flights_2021,flights_2022])\n",
    "\n",
    "# inspect dataset \n",
    "df.info()"
   ]
  },
  {
   "cell_type": "code",
   "execution_count": 13,
   "id": "c3839c9c",
   "metadata": {},
   "outputs": [
    {
     "data": {
      "text/plain": [
       "<bound method NDFrame.head of          FlightDate            Airline Origin Dest  Cancelled  Diverted  \\\n",
       "0        2018-01-23  Endeavor Air Inc.    ABY  ATL      False     False   \n",
       "1        2018-01-24  Endeavor Air Inc.    ABY  ATL      False     False   \n",
       "2        2018-01-25  Endeavor Air Inc.    ABY  ATL      False     False   \n",
       "3        2018-01-26  Endeavor Air Inc.    ABY  ATL      False     False   \n",
       "4        2018-01-27  Endeavor Air Inc.    ABY  ATL      False     False   \n",
       "...             ...                ...    ...  ...        ...       ...   \n",
       "4078313  2022-03-31  Republic Airlines    MSY  EWR      False      True   \n",
       "4078314  2022-03-17  Republic Airlines    CLT  EWR       True     False   \n",
       "4078315  2022-03-08  Republic Airlines    ALB  ORD      False     False   \n",
       "4078316  2022-03-25  Republic Airlines    EWR  PIT      False      True   \n",
       "4078317  2022-03-07  Republic Airlines    EWR  RDU      False      True   \n",
       "\n",
       "         CRSDepTime  DepTime  DepDelayMinutes  DepDelay  ...  WheelsOff  \\\n",
       "0              1202   1157.0              0.0      -5.0  ...     1211.0   \n",
       "1              1202   1157.0              0.0      -5.0  ...     1210.0   \n",
       "2              1202   1153.0              0.0      -9.0  ...     1211.0   \n",
       "3              1202   1150.0              0.0     -12.0  ...     1207.0   \n",
       "4              1400   1355.0              0.0      -5.0  ...     1412.0   \n",
       "...             ...      ...              ...       ...  ...        ...   \n",
       "4078313        1949   2014.0             25.0      25.0  ...     2031.0   \n",
       "4078314        1733   1817.0             44.0      44.0  ...        NaN   \n",
       "4078315        1700   2318.0            378.0     378.0  ...     2337.0   \n",
       "4078316        2129   2322.0            113.0     113.0  ...     2347.0   \n",
       "4078317        1154   1148.0              0.0      -6.0  ...     1201.0   \n",
       "\n",
       "         WheelsOn  TaxiIn  CRSArrTime  ArrDelay  ArrDel15  ArrivalDelayGroups  \\\n",
       "0          1249.0     7.0        1304      -8.0       0.0                -1.0   \n",
       "1          1246.0    12.0        1304      -6.0       0.0                -1.0   \n",
       "2          1251.0    11.0        1304      -2.0       0.0                -1.0   \n",
       "3          1242.0    11.0        1304     -11.0       0.0                -1.0   \n",
       "4          1448.0    11.0        1500      -1.0       0.0                -1.0   \n",
       "...           ...     ...         ...       ...       ...                 ...   \n",
       "4078313     202.0    32.0        2354       NaN       NaN                 NaN   \n",
       "4078314       NaN     NaN        1942       NaN       NaN                 NaN   \n",
       "4078315      52.0     7.0        1838     381.0       1.0                12.0   \n",
       "4078316     933.0     6.0        2255       NaN       NaN                 NaN   \n",
       "4078317    1552.0     4.0        1333       NaN       NaN                 NaN   \n",
       "\n",
       "         ArrTimeBlk  DistanceGroup  DivAirportLandings  \n",
       "0         1300-1359              1                 0.0  \n",
       "1         1300-1359              1                 0.0  \n",
       "2         1300-1359              1                 0.0  \n",
       "3         1300-1359              1                 0.0  \n",
       "4         1500-1559              1                 0.0  \n",
       "...             ...            ...                 ...  \n",
       "4078313   2300-2359              5                 1.0  \n",
       "4078314   1900-1959              3                 0.0  \n",
       "4078315   1800-1859              3                 0.0  \n",
       "4078316   2200-2259              2                 1.0  \n",
       "4078317   1300-1359              2                 1.0  \n",
       "\n",
       "[29193782 rows x 61 columns]>"
      ]
     },
     "execution_count": 13,
     "metadata": {},
     "output_type": "execute_result"
    }
   ],
   "source": [
    "# inspect dataset \n",
    "df.head"
   ]
  },
  {
   "cell_type": "code",
   "execution_count": 16,
   "id": "f329329c",
   "metadata": {},
   "outputs": [
    {
     "name": "stdout",
     "output_type": "stream",
     "text": [
      "Column 'DepTime' has 761652 null values\n",
      "Column 'DepDelayMinutes' has 763084 null values\n",
      "Column 'DepDelay' has 763084 null values\n",
      "Column 'ArrTime' has 786177 null values\n",
      "Column 'ArrDelayMinutes' has 846183 null values\n",
      "Column 'AirTime' has 852561 null values\n",
      "Column 'CRSElapsedTime' has 22 null values\n",
      "Column 'ActualElapsedTime' has 845637 null values\n",
      "Column 'Tail_Number' has 267613 null values\n",
      "Column 'DepDel15' has 763084 null values\n",
      "Column 'DepartureDelayGroups' has 763084 null values\n",
      "Column 'TaxiOut' has 780561 null values\n",
      "Column 'WheelsOff' has 780551 null values\n",
      "Column 'WheelsOn' has 793133 null values\n",
      "Column 'TaxiIn' has 793143 null values\n",
      "Column 'ArrDelay' has 846183 null values\n",
      "Column 'ArrDel15' has 846183 null values\n",
      "Column 'ArrivalDelayGroups' has 846183 null values\n",
      "Column 'DivAirportLandings' has 90 null values\n"
     ]
    }
   ],
   "source": [
    "# check for null value\n",
    "null_count_by_column = df.isnull().sum()\n",
    "for col, count in null_count_by_column.items():\n",
    "    if count > 0:\n",
    "        print(f\"Column '{col}' has {count} null values\")"
   ]
  },
  {
   "cell_type": "code",
   "execution_count": 15,
   "id": "9a61593a",
   "metadata": {},
   "outputs": [],
   "source": [
    "# drop na\n",
    "#df = df.dropna(subset=['ArrDelay'])\n",
    "\n",
    "# check for null value\n",
    "#null_count_by_column = df.isnull().sum()\n",
    "#for col, count in null_count_by_column.items():\n",
    "#    if count > 0:\n",
    "#        print(f\"Column '{col}' has {count} null values\")"
   ]
  },
  {
   "cell_type": "markdown",
   "id": "340a8481",
   "metadata": {},
   "source": [
    "### Create Table"
   ]
  },
  {
   "cell_type": "code",
   "execution_count": 26,
   "id": "50313667",
   "metadata": {},
   "outputs": [],
   "source": [
    "# Define the connection parameters\n",
    "host = \"localhost\"\n",
    "port = 5432\n",
    "dbname = \"5310teamproject\"\n",
    "user = \"postgres\"\n",
    "password = \"123\"\n",
    "\n",
    "# Create a connection string in the required format\n",
    "conn_url = f\"postgresql+psycopg2://{user}:{password}@{host}:{port}/{dbname}\"\n",
    "\n",
    "# Create an engine that connects to the PostgreSQL server\n",
    "engine = create_engine(conn_url)\n",
    "\n",
    "# Establish a connection\n",
    "connection = engine.connect()"
   ]
  },
  {
   "cell_type": "code",
   "execution_count": 27,
   "id": "6c8a3a0a",
   "metadata": {},
   "outputs": [
    {
     "data": {
      "text/plain": [
       "<sqlalchemy.engine.cursor.LegacyCursorResult at 0x7fb7cef81fa0>"
      ]
     },
     "execution_count": 27,
     "metadata": {},
     "output_type": "execute_result"
    }
   ],
   "source": [
    "# Pass the SQL statements that create all tables\n",
    "CreatTableCMD = \"\"\"\n",
    "CREATE TABLE airline (\n",
    "  company_code \t\tVARCHAR(55) PRIMARY KEY,\n",
    "  company_name \t\tVARCHAR(50) NOT NULL,\n",
    "  DOT_ID\t\t\tINT NOT NULL\n",
    ");\n",
    "\n",
    "CREATE TABLE code_share (\n",
    "  operated_or_branded_code_share_partners \t\tVARCHAR(2) NOT NULL,\n",
    "  marketing_airline \t\t\t\tVARCHAR(2) NOT NULL,\n",
    "  PRIMARY KEY (operated_or_branded_code_share_partners),\n",
    "  FOREIGN KEY (marketing_airline) REFERENCES airline(company_code)\n",
    ");\n",
    "\n",
    "CREATE TABLE state (\n",
    "  state_code \t\tVARCHAR(2) PRIMARY KEY,\n",
    "  state_name \tVARCHAR(50) NOT NULL,\n",
    "  state_fips \tINT NOT NULL,\n",
    "  wac \t\t\tINT\n",
    ");\n",
    "\n",
    "CREATE TABLE city (\n",
    "  city_ID \t\tINT PRIMARY KEY,\n",
    "  cityName \t\tVARCHAR(50) NOT NULL,\n",
    "  state_code \t\tVARCHAR(2) NOT NULL,\n",
    "  cityMarketID \tINT NOT NULL,\n",
    "  FOREIGN KEY (state_code) REFERENCES state(state_code)\n",
    ");\n",
    "\n",
    "\n",
    "CREATE TABLE date_info (\n",
    "  flightdate \tDATE PRIMARY KEY,\n",
    "  year \t\t\tINT NOT NULL,\n",
    "  quarter \t\tINT NOT NULL,\n",
    "  month \t\tINT NOT NULL,\n",
    "  dayofmonth \tINT NOT NULL,\n",
    "  dayofweek \tINT NOT NULL\n",
    ");\n",
    "\n",
    "\n",
    "CREATE TABLE airport (\n",
    "  airport_CODE \tVARCHAR(3) PRIMARY KEY,\n",
    "  airport_ID \tINT NOT NULL,\n",
    "  airportseq_ID \tINT NOT NULL,\n",
    "  city_id \t\tINT NOT NULL,\n",
    "  FOREIGN KEY (city_id) REFERENCES city(city_id)\n",
    ");\n",
    "\n",
    "\n",
    "CREATE TABLE route (\n",
    "  route_ID \tINT PRIMARY KEY,\n",
    "  origin \tVARCHAR(3) NOT NULL,\n",
    "  dest \t\tVARCHAR(3) NOT NULL,\n",
    "  distance \tINT NOT NULL,\n",
    "   FOREIGN KEY (origin) REFERENCES airport(airport_code),\n",
    "   FOREIGN KEY (dest) REFERENCES airport(airport_code)\n",
    ");\n",
    "\n",
    "CREATE TABLE flight (\n",
    "  flightdate \t\t\t\t\t\tDATE NOT NULL,\n",
    "  operating_airline \t\t\t\t\tVARCHAR(2) NOT NULL,\n",
    "  flight_number_operating_airline\t\tINT NOT NULL,\n",
    "  route_ID \t\t\t\t\t\t\t\tINT NOT NULL,\n",
    "  cancelled \t\t\t\t\t\t\t\tBOOLEAN NOT NULL,\n",
    "  diverted \t\t\t\t\t\t\t\t\tBOOLEAN NOT NULL,\n",
    "  CRSdepTime \t\t\t\t\t\t\t\tINT NOT NULL,\n",
    "  depTime \t\t\t\t\t\t\t\t\tINT ,\n",
    "  dep_delay_minutes \t\t\t\t\t\tINT ,\n",
    "  dep_delay \t\t\t\t\t\t\t\t\tINT ,\n",
    "  arr_time \t\t\t\t\t\t\t\t\t\tINT ,\n",
    "  arr_delay_minutes \t\t\t\t\t\t\t\tINT ,\n",
    "  air_time \t\t\t\t\t\t\t\t\t\tINT ,\n",
    "  CRS_elapsed_time \t\t\t\t\t\t\t\tINT ,\n",
    "  actual_elapsed_time \t\t\t\t\t\t\tINT ,\n",
    "  operated_or_branded_code_share_partners \t\tVARCHAR(55),\n",
    "  PRIMARY KEY (flightDate,operating_airline,flight_number_operating_airline,route_ID),\n",
    "  FOREIGN KEY (flightdate) REFERENCES date_info(flightdate),\n",
    "  FOREIGN KEY (operating_airline) REFERENCES airline(company_code),\n",
    "  FOREIGN KEY (route_ID) REFERENCES route(route_ID),\n",
    "  FOREIGN KEY (operated_or_branded_code_share_partners) REFERENCES Code_share(Operated_or_Branded_Code_Share_Partners)\n",
    ");\n",
    "\"\"\"\n",
    "\n",
    "# Execute the statement to create tables\n",
    "connection.execute(CreatTableCMD)"
   ]
  },
  {
   "cell_type": "markdown",
   "id": "09729e18",
   "metadata": {},
   "source": [
    "#### --- airlines ---"
   ]
  },
  {
   "cell_type": "code",
   "execution_count": 28,
   "id": "a6043179",
   "metadata": {},
   "outputs": [
    {
     "name": "stdout",
     "output_type": "stream",
     "text": [
      "  company_code              company_name  dot_id\n",
      "0           9E         Endeavor Air Inc.   20363\n",
      "1           B6           JetBlue Airways   20409\n",
      "2           EV  ExpressJet Airlines Inc.   20366\n",
      "3           G4             Allegiant Air   20368\n",
      "4           HA    Hawaiian Airlines Inc.   19690\n"
     ]
    }
   ],
   "source": [
    "# Rename the columns 'Operating_Airline', 'Airline', and 'DOT_ID_Operating_Airline' to 'company_code', 'company_name', and 'DOT_ID', respectively\n",
    "df = df.rename(columns={'Operating_Airline': 'company_code', 'Airline': 'company_name', 'DOT_ID_Operating_Airline': 'dot_id'})\n",
    "\n",
    "# Select only the renamed columns 'company_code', 'company_name', and 'DOT_ID' using double square brackets\n",
    "airline_df = df[['company_code', 'company_name', 'dot_id']]\n",
    "\n",
    "# Create a new DataFrame with unique values of the 'company_code' column from the 'airline_df' DataFrame\n",
    "temp_airline_df = pd.DataFrame(airline_df.company_code.unique(), columns=['company_code'])\n",
    "\n",
    "# Merge the new DataFrame with the 'airline_df' DataFrame to get the corresponding 'company_name' and 'DOT_ID' values for each unique 'company_code'\n",
    "temp_airline_df = temp_airline_df.merge(airline_df.drop_duplicates(subset='company_code'), on='company_code')\n",
    "\n",
    "# Print the first five rows of the resulting DataFrame\n",
    "print(temp_airline_df.head())"
   ]
  },
  {
   "cell_type": "code",
   "execution_count": 29,
   "id": "c7d07618",
   "metadata": {},
   "outputs": [
    {
     "data": {
      "text/plain": [
       "28"
      ]
     },
     "execution_count": 29,
     "metadata": {},
     "output_type": "execute_result"
    }
   ],
   "source": [
    "# Write the contents of the 'temp_airline_df' DataFrame to a SQL database table named 'airline'\n",
    "temp_airline_df.to_sql(name='airline', con=engine, if_exists='append', index=False)"
   ]
  },
  {
   "cell_type": "markdown",
   "id": "5e76003b",
   "metadata": {},
   "source": [
    "#### --- code_share ---"
   ]
  },
  {
   "cell_type": "code",
   "execution_count": 30,
   "id": "d32ce5a1",
   "metadata": {},
   "outputs": [
    {
     "name": "stdout",
     "output_type": "stream",
     "text": [
      "  operated_or_branded_code_share_partners marketing_airline\n",
      "0                            DL_CODESHARE                DL\n",
      "1                                      B6                B6\n",
      "2                            UA_CODESHARE                UA\n",
      "3                                      G4                G4\n",
      "4                                      HA                HA\n"
     ]
    }
   ],
   "source": [
    "# Rename the columns 'Marketing_Airline_Network' and 'Operated_or_Branded_Code_Share_Partners'\n",
    "df = df.rename(columns={'Marketing_Airline_Network': 'marketing_airline', 'Operated_or_Branded_Code_Share_Partners': 'operated_or_branded_code_share_partners'})\n",
    "\n",
    "# Select only the columns 'operated_or_branded_code_share_partners' and 'marketing_airline'\n",
    "code_share_df = df[['operated_or_branded_code_share_partners', 'marketing_airline']]\n",
    "\n",
    "# Create a new DataFrame with unique values of the 'operated_or_branded_code_share_partners' column from the 'code_share_df' DataFrame\n",
    "temp_code_share_df = pd.DataFrame(code_share_df.operated_or_branded_code_share_partners.unique(), columns=['operated_or_branded_code_share_partners'])\n",
    "\n",
    "# Merge the new DataFrame with the 'code_share_df' DataFrame to get the corresponding 'marketing_airline' values for each unique 'operated_or_branded_code_share_partners'\n",
    "temp_code_share_df = temp_code_share_df.merge(code_share_df.drop_duplicates(subset='operated_or_branded_code_share_partners'), on='operated_or_branded_code_share_partners')\n",
    "\n",
    "# Print the first five rows of the resulting DataFrame\n",
    "print(temp_code_share_df.head())"
   ]
  },
  {
   "cell_type": "code",
   "execution_count": 31,
   "id": "84375699",
   "metadata": {},
   "outputs": [
    {
     "ename": "DataError",
     "evalue": "(psycopg2.errors.StringDataRightTruncation) value too long for type character varying(2)\n\n[SQL: INSERT INTO code_share (operated_or_branded_code_share_partners, marketing_airline) VALUES (%(operated_or_branded_code_share_partners)s, %(marketing_airline)s)]\n[parameters: ({'operated_or_branded_code_share_partners': 'DL_CODESHARE', 'marketing_airline': 'DL'}, {'operated_or_branded_code_share_partners': 'B6', 'marketing_airline': 'B6'}, {'operated_or_branded_code_share_partners': 'UA_CODESHARE', 'marketing_airline': 'UA'}, {'operated_or_branded_code_share_partners': 'G4', 'marketing_airline': 'G4'}, {'operated_or_branded_code_share_partners': 'HA', 'marketing_airline': 'HA'}, {'operated_or_branded_code_share_partners': 'NK', 'marketing_airline': 'NK'}, {'operated_or_branded_code_share_partners': 'AS_CODESHARE', 'marketing_airline': 'AS'}, {'operated_or_branded_code_share_partners': 'F9', 'marketing_airline': 'F9'}  ... displaying 10 of 16 total bound parameter sets ...  {'operated_or_branded_code_share_partners': 'AA_CODESHARE', 'marketing_airline': 'AA'}, {'operated_or_branded_code_share_partners': 'AA', 'marketing_airline': 'AA'})]\n(Background on this error at: https://sqlalche.me/e/14/9h9h)",
     "output_type": "error",
     "traceback": [
      "\u001b[0;31m---------------------------------------------------------------------------\u001b[0m",
      "\u001b[0;31mStringDataRightTruncation\u001b[0m                 Traceback (most recent call last)",
      "\u001b[0;32m~/opt/anaconda3/lib/python3.9/site-packages/sqlalchemy/engine/base.py\u001b[0m in \u001b[0;36m_execute_context\u001b[0;34m(self, dialect, constructor, statement, parameters, execution_options, *args, **kw)\u001b[0m\n\u001b[1;32m   1798\u001b[0m                 \u001b[0;32mif\u001b[0m \u001b[0;32mnot\u001b[0m \u001b[0mevt_handled\u001b[0m\u001b[0;34m:\u001b[0m\u001b[0;34m\u001b[0m\u001b[0;34m\u001b[0m\u001b[0m\n\u001b[0;32m-> 1799\u001b[0;31m                     self.dialect.do_executemany(\n\u001b[0m\u001b[1;32m   1800\u001b[0m                         \u001b[0mcursor\u001b[0m\u001b[0;34m,\u001b[0m \u001b[0mstatement\u001b[0m\u001b[0;34m,\u001b[0m \u001b[0mparameters\u001b[0m\u001b[0;34m,\u001b[0m \u001b[0mcontext\u001b[0m\u001b[0;34m\u001b[0m\u001b[0;34m\u001b[0m\u001b[0m\n",
      "\u001b[0;32m~/opt/anaconda3/lib/python3.9/site-packages/sqlalchemy/dialects/postgresql/psycopg2.py\u001b[0m in \u001b[0;36mdo_executemany\u001b[0;34m(self, cursor, statement, parameters, context)\u001b[0m\n\u001b[1;32m    952\u001b[0m             \u001b[0mxtras\u001b[0m \u001b[0;34m=\u001b[0m \u001b[0mself\u001b[0m\u001b[0;34m.\u001b[0m\u001b[0m_psycopg2_extras\u001b[0m\u001b[0;34m(\u001b[0m\u001b[0;34m)\u001b[0m\u001b[0;34m\u001b[0m\u001b[0;34m\u001b[0m\u001b[0m\n\u001b[0;32m--> 953\u001b[0;31m             context._psycopg2_fetched_rows = xtras.execute_values(\n\u001b[0m\u001b[1;32m    954\u001b[0m                 \u001b[0mcursor\u001b[0m\u001b[0;34m,\u001b[0m\u001b[0;34m\u001b[0m\u001b[0;34m\u001b[0m\u001b[0m\n",
      "\u001b[0;32m~/opt/anaconda3/lib/python3.9/site-packages/psycopg2/extras.py\u001b[0m in \u001b[0;36mexecute_values\u001b[0;34m(cur, sql, argslist, template, page_size, fetch)\u001b[0m\n\u001b[1;32m   1298\u001b[0m         \u001b[0mparts\u001b[0m\u001b[0;34m[\u001b[0m\u001b[0;34m-\u001b[0m\u001b[0;36m1\u001b[0m\u001b[0;34m:\u001b[0m\u001b[0;34m]\u001b[0m \u001b[0;34m=\u001b[0m \u001b[0mpost\u001b[0m\u001b[0;34m\u001b[0m\u001b[0;34m\u001b[0m\u001b[0m\n\u001b[0;32m-> 1299\u001b[0;31m         \u001b[0mcur\u001b[0m\u001b[0;34m.\u001b[0m\u001b[0mexecute\u001b[0m\u001b[0;34m(\u001b[0m\u001b[0;34mb''\u001b[0m\u001b[0;34m.\u001b[0m\u001b[0mjoin\u001b[0m\u001b[0;34m(\u001b[0m\u001b[0mparts\u001b[0m\u001b[0;34m)\u001b[0m\u001b[0;34m)\u001b[0m\u001b[0;34m\u001b[0m\u001b[0;34m\u001b[0m\u001b[0m\n\u001b[0m\u001b[1;32m   1300\u001b[0m         \u001b[0;32mif\u001b[0m \u001b[0mfetch\u001b[0m\u001b[0;34m:\u001b[0m\u001b[0;34m\u001b[0m\u001b[0;34m\u001b[0m\u001b[0m\n",
      "\u001b[0;31mStringDataRightTruncation\u001b[0m: value too long for type character varying(2)\n",
      "\nThe above exception was the direct cause of the following exception:\n",
      "\u001b[0;31mDataError\u001b[0m                                 Traceback (most recent call last)",
      "\u001b[0;32m/var/folders/l_/gvz5qvmx6tn04331wbg34y4w0000gn/T/ipykernel_28269/2082669765.py\u001b[0m in \u001b[0;36m<module>\u001b[0;34m\u001b[0m\n\u001b[1;32m      1\u001b[0m \u001b[0;31m# Write the contents of the 'temp_code_share_df' DataFrame to a SQL database table named 'code_share'\u001b[0m\u001b[0;34m\u001b[0m\u001b[0;34m\u001b[0m\u001b[0m\n\u001b[0;32m----> 2\u001b[0;31m \u001b[0mtemp_code_share_df\u001b[0m\u001b[0;34m.\u001b[0m\u001b[0mto_sql\u001b[0m\u001b[0;34m(\u001b[0m\u001b[0mname\u001b[0m\u001b[0;34m=\u001b[0m\u001b[0;34m'code_share'\u001b[0m\u001b[0;34m,\u001b[0m \u001b[0mcon\u001b[0m\u001b[0;34m=\u001b[0m\u001b[0mengine\u001b[0m\u001b[0;34m,\u001b[0m \u001b[0mif_exists\u001b[0m\u001b[0;34m=\u001b[0m\u001b[0;34m'append'\u001b[0m\u001b[0;34m,\u001b[0m \u001b[0mindex\u001b[0m\u001b[0;34m=\u001b[0m\u001b[0;32mFalse\u001b[0m\u001b[0;34m)\u001b[0m\u001b[0;34m\u001b[0m\u001b[0;34m\u001b[0m\u001b[0m\n\u001b[0m",
      "\u001b[0;32m~/opt/anaconda3/lib/python3.9/site-packages/pandas/core/generic.py\u001b[0m in \u001b[0;36mto_sql\u001b[0;34m(self, name, con, schema, if_exists, index, index_label, chunksize, dtype, method)\u001b[0m\n\u001b[1;32m   2949\u001b[0m         \u001b[0;32mfrom\u001b[0m \u001b[0mpandas\u001b[0m\u001b[0;34m.\u001b[0m\u001b[0mio\u001b[0m \u001b[0;32mimport\u001b[0m \u001b[0msql\u001b[0m\u001b[0;34m\u001b[0m\u001b[0;34m\u001b[0m\u001b[0m\n\u001b[1;32m   2950\u001b[0m \u001b[0;34m\u001b[0m\u001b[0m\n\u001b[0;32m-> 2951\u001b[0;31m         return sql.to_sql(\n\u001b[0m\u001b[1;32m   2952\u001b[0m             \u001b[0mself\u001b[0m\u001b[0;34m,\u001b[0m\u001b[0;34m\u001b[0m\u001b[0;34m\u001b[0m\u001b[0m\n\u001b[1;32m   2953\u001b[0m             \u001b[0mname\u001b[0m\u001b[0;34m,\u001b[0m\u001b[0;34m\u001b[0m\u001b[0;34m\u001b[0m\u001b[0m\n",
      "\u001b[0;32m~/opt/anaconda3/lib/python3.9/site-packages/pandas/io/sql.py\u001b[0m in \u001b[0;36mto_sql\u001b[0;34m(frame, name, con, schema, if_exists, index, index_label, chunksize, dtype, method, engine, **engine_kwargs)\u001b[0m\n\u001b[1;32m    696\u001b[0m         )\n\u001b[1;32m    697\u001b[0m \u001b[0;34m\u001b[0m\u001b[0m\n\u001b[0;32m--> 698\u001b[0;31m     return pandas_sql.to_sql(\n\u001b[0m\u001b[1;32m    699\u001b[0m         \u001b[0mframe\u001b[0m\u001b[0;34m,\u001b[0m\u001b[0;34m\u001b[0m\u001b[0;34m\u001b[0m\u001b[0m\n\u001b[1;32m    700\u001b[0m         \u001b[0mname\u001b[0m\u001b[0;34m,\u001b[0m\u001b[0;34m\u001b[0m\u001b[0;34m\u001b[0m\u001b[0m\n",
      "\u001b[0;32m~/opt/anaconda3/lib/python3.9/site-packages/pandas/io/sql.py\u001b[0m in \u001b[0;36mto_sql\u001b[0;34m(self, frame, name, if_exists, index, index_label, schema, chunksize, dtype, method, engine, **engine_kwargs)\u001b[0m\n\u001b[1;32m   1740\u001b[0m         )\n\u001b[1;32m   1741\u001b[0m \u001b[0;34m\u001b[0m\u001b[0m\n\u001b[0;32m-> 1742\u001b[0;31m         total_inserted = sql_engine.insert_records(\n\u001b[0m\u001b[1;32m   1743\u001b[0m             \u001b[0mtable\u001b[0m\u001b[0;34m=\u001b[0m\u001b[0mtable\u001b[0m\u001b[0;34m,\u001b[0m\u001b[0;34m\u001b[0m\u001b[0;34m\u001b[0m\u001b[0m\n\u001b[1;32m   1744\u001b[0m             \u001b[0mcon\u001b[0m\u001b[0;34m=\u001b[0m\u001b[0mself\u001b[0m\u001b[0;34m.\u001b[0m\u001b[0mconnectable\u001b[0m\u001b[0;34m,\u001b[0m\u001b[0;34m\u001b[0m\u001b[0;34m\u001b[0m\u001b[0m\n",
      "\u001b[0;32m~/opt/anaconda3/lib/python3.9/site-packages/pandas/io/sql.py\u001b[0m in \u001b[0;36minsert_records\u001b[0;34m(self, table, con, frame, name, index, schema, chunksize, method, **engine_kwargs)\u001b[0m\n\u001b[1;32m   1333\u001b[0m                 \u001b[0;32mraise\u001b[0m \u001b[0mValueError\u001b[0m\u001b[0;34m(\u001b[0m\u001b[0;34m\"inf cannot be used with MySQL\"\u001b[0m\u001b[0;34m)\u001b[0m \u001b[0;32mfrom\u001b[0m \u001b[0merr\u001b[0m\u001b[0;34m\u001b[0m\u001b[0;34m\u001b[0m\u001b[0m\n\u001b[1;32m   1334\u001b[0m             \u001b[0;32melse\u001b[0m\u001b[0;34m:\u001b[0m\u001b[0;34m\u001b[0m\u001b[0;34m\u001b[0m\u001b[0m\n\u001b[0;32m-> 1335\u001b[0;31m                 \u001b[0;32mraise\u001b[0m \u001b[0merr\u001b[0m\u001b[0;34m\u001b[0m\u001b[0;34m\u001b[0m\u001b[0m\n\u001b[0m\u001b[1;32m   1336\u001b[0m \u001b[0;34m\u001b[0m\u001b[0m\n\u001b[1;32m   1337\u001b[0m \u001b[0;34m\u001b[0m\u001b[0m\n",
      "\u001b[0;32m~/opt/anaconda3/lib/python3.9/site-packages/pandas/io/sql.py\u001b[0m in \u001b[0;36minsert_records\u001b[0;34m(self, table, con, frame, name, index, schema, chunksize, method, **engine_kwargs)\u001b[0m\n\u001b[1;32m   1323\u001b[0m \u001b[0;34m\u001b[0m\u001b[0m\n\u001b[1;32m   1324\u001b[0m         \u001b[0;32mtry\u001b[0m\u001b[0;34m:\u001b[0m\u001b[0;34m\u001b[0m\u001b[0;34m\u001b[0m\u001b[0m\n\u001b[0;32m-> 1325\u001b[0;31m             \u001b[0;32mreturn\u001b[0m \u001b[0mtable\u001b[0m\u001b[0;34m.\u001b[0m\u001b[0minsert\u001b[0m\u001b[0;34m(\u001b[0m\u001b[0mchunksize\u001b[0m\u001b[0;34m=\u001b[0m\u001b[0mchunksize\u001b[0m\u001b[0;34m,\u001b[0m \u001b[0mmethod\u001b[0m\u001b[0;34m=\u001b[0m\u001b[0mmethod\u001b[0m\u001b[0;34m)\u001b[0m\u001b[0;34m\u001b[0m\u001b[0;34m\u001b[0m\u001b[0m\n\u001b[0m\u001b[1;32m   1326\u001b[0m         \u001b[0;32mexcept\u001b[0m \u001b[0mexc\u001b[0m\u001b[0;34m.\u001b[0m\u001b[0mSQLAlchemyError\u001b[0m \u001b[0;32mas\u001b[0m \u001b[0merr\u001b[0m\u001b[0;34m:\u001b[0m\u001b[0;34m\u001b[0m\u001b[0;34m\u001b[0m\u001b[0m\n\u001b[1;32m   1327\u001b[0m             \u001b[0;31m# GH34431\u001b[0m\u001b[0;34m\u001b[0m\u001b[0;34m\u001b[0m\u001b[0m\n",
      "\u001b[0;32m~/opt/anaconda3/lib/python3.9/site-packages/pandas/io/sql.py\u001b[0m in \u001b[0;36minsert\u001b[0;34m(self, chunksize, method)\u001b[0m\n\u001b[1;32m    949\u001b[0m \u001b[0;34m\u001b[0m\u001b[0m\n\u001b[1;32m    950\u001b[0m                 \u001b[0mchunk_iter\u001b[0m \u001b[0;34m=\u001b[0m \u001b[0mzip\u001b[0m\u001b[0;34m(\u001b[0m\u001b[0;34m*\u001b[0m\u001b[0;34m(\u001b[0m\u001b[0marr\u001b[0m\u001b[0;34m[\u001b[0m\u001b[0mstart_i\u001b[0m\u001b[0;34m:\u001b[0m\u001b[0mend_i\u001b[0m\u001b[0;34m]\u001b[0m \u001b[0;32mfor\u001b[0m \u001b[0marr\u001b[0m \u001b[0;32min\u001b[0m \u001b[0mdata_list\u001b[0m\u001b[0;34m)\u001b[0m\u001b[0;34m)\u001b[0m\u001b[0;34m\u001b[0m\u001b[0;34m\u001b[0m\u001b[0m\n\u001b[0;32m--> 951\u001b[0;31m                 \u001b[0mnum_inserted\u001b[0m \u001b[0;34m=\u001b[0m \u001b[0mexec_insert\u001b[0m\u001b[0;34m(\u001b[0m\u001b[0mconn\u001b[0m\u001b[0;34m,\u001b[0m \u001b[0mkeys\u001b[0m\u001b[0;34m,\u001b[0m \u001b[0mchunk_iter\u001b[0m\u001b[0;34m)\u001b[0m\u001b[0;34m\u001b[0m\u001b[0;34m\u001b[0m\u001b[0m\n\u001b[0m\u001b[1;32m    952\u001b[0m                 \u001b[0;31m# GH 46891\u001b[0m\u001b[0;34m\u001b[0m\u001b[0;34m\u001b[0m\u001b[0m\n\u001b[1;32m    953\u001b[0m                 \u001b[0;32mif\u001b[0m \u001b[0mis_integer\u001b[0m\u001b[0;34m(\u001b[0m\u001b[0mnum_inserted\u001b[0m\u001b[0;34m)\u001b[0m\u001b[0;34m:\u001b[0m\u001b[0;34m\u001b[0m\u001b[0;34m\u001b[0m\u001b[0m\n",
      "\u001b[0;32m~/opt/anaconda3/lib/python3.9/site-packages/pandas/io/sql.py\u001b[0m in \u001b[0;36m_execute_insert\u001b[0;34m(self, conn, keys, data_iter)\u001b[0m\n\u001b[1;32m    856\u001b[0m         \"\"\"\n\u001b[1;32m    857\u001b[0m         \u001b[0mdata\u001b[0m \u001b[0;34m=\u001b[0m \u001b[0;34m[\u001b[0m\u001b[0mdict\u001b[0m\u001b[0;34m(\u001b[0m\u001b[0mzip\u001b[0m\u001b[0;34m(\u001b[0m\u001b[0mkeys\u001b[0m\u001b[0;34m,\u001b[0m \u001b[0mrow\u001b[0m\u001b[0;34m)\u001b[0m\u001b[0;34m)\u001b[0m \u001b[0;32mfor\u001b[0m \u001b[0mrow\u001b[0m \u001b[0;32min\u001b[0m \u001b[0mdata_iter\u001b[0m\u001b[0;34m]\u001b[0m\u001b[0;34m\u001b[0m\u001b[0;34m\u001b[0m\u001b[0m\n\u001b[0;32m--> 858\u001b[0;31m         \u001b[0mresult\u001b[0m \u001b[0;34m=\u001b[0m \u001b[0mconn\u001b[0m\u001b[0;34m.\u001b[0m\u001b[0mexecute\u001b[0m\u001b[0;34m(\u001b[0m\u001b[0mself\u001b[0m\u001b[0;34m.\u001b[0m\u001b[0mtable\u001b[0m\u001b[0;34m.\u001b[0m\u001b[0minsert\u001b[0m\u001b[0;34m(\u001b[0m\u001b[0;34m)\u001b[0m\u001b[0;34m,\u001b[0m \u001b[0mdata\u001b[0m\u001b[0;34m)\u001b[0m\u001b[0;34m\u001b[0m\u001b[0;34m\u001b[0m\u001b[0m\n\u001b[0m\u001b[1;32m    859\u001b[0m         \u001b[0;32mreturn\u001b[0m \u001b[0mresult\u001b[0m\u001b[0;34m.\u001b[0m\u001b[0mrowcount\u001b[0m\u001b[0;34m\u001b[0m\u001b[0;34m\u001b[0m\u001b[0m\n\u001b[1;32m    860\u001b[0m \u001b[0;34m\u001b[0m\u001b[0m\n",
      "\u001b[0;32m~/opt/anaconda3/lib/python3.9/site-packages/sqlalchemy/engine/base.py\u001b[0m in \u001b[0;36mexecute\u001b[0;34m(self, statement, *multiparams, **params)\u001b[0m\n\u001b[1;32m   1304\u001b[0m             )\n\u001b[1;32m   1305\u001b[0m         \u001b[0;32melse\u001b[0m\u001b[0;34m:\u001b[0m\u001b[0;34m\u001b[0m\u001b[0;34m\u001b[0m\u001b[0m\n\u001b[0;32m-> 1306\u001b[0;31m             \u001b[0;32mreturn\u001b[0m \u001b[0mmeth\u001b[0m\u001b[0;34m(\u001b[0m\u001b[0mself\u001b[0m\u001b[0;34m,\u001b[0m \u001b[0mmultiparams\u001b[0m\u001b[0;34m,\u001b[0m \u001b[0mparams\u001b[0m\u001b[0;34m,\u001b[0m \u001b[0m_EMPTY_EXECUTION_OPTS\u001b[0m\u001b[0;34m)\u001b[0m\u001b[0;34m\u001b[0m\u001b[0;34m\u001b[0m\u001b[0m\n\u001b[0m\u001b[1;32m   1307\u001b[0m \u001b[0;34m\u001b[0m\u001b[0m\n\u001b[1;32m   1308\u001b[0m     \u001b[0;32mdef\u001b[0m \u001b[0m_execute_function\u001b[0m\u001b[0;34m(\u001b[0m\u001b[0mself\u001b[0m\u001b[0;34m,\u001b[0m \u001b[0mfunc\u001b[0m\u001b[0;34m,\u001b[0m \u001b[0mmultiparams\u001b[0m\u001b[0;34m,\u001b[0m \u001b[0mparams\u001b[0m\u001b[0;34m,\u001b[0m \u001b[0mexecution_options\u001b[0m\u001b[0;34m)\u001b[0m\u001b[0;34m:\u001b[0m\u001b[0;34m\u001b[0m\u001b[0;34m\u001b[0m\u001b[0m\n",
      "\u001b[0;32m~/opt/anaconda3/lib/python3.9/site-packages/sqlalchemy/sql/elements.py\u001b[0m in \u001b[0;36m_execute_on_connection\u001b[0;34m(self, connection, multiparams, params, execution_options, _force)\u001b[0m\n\u001b[1;32m    330\u001b[0m     ):\n\u001b[1;32m    331\u001b[0m         \u001b[0;32mif\u001b[0m \u001b[0m_force\u001b[0m \u001b[0;32mor\u001b[0m \u001b[0mself\u001b[0m\u001b[0;34m.\u001b[0m\u001b[0msupports_execution\u001b[0m\u001b[0;34m:\u001b[0m\u001b[0;34m\u001b[0m\u001b[0;34m\u001b[0m\u001b[0m\n\u001b[0;32m--> 332\u001b[0;31m             return connection._execute_clauseelement(\n\u001b[0m\u001b[1;32m    333\u001b[0m                 \u001b[0mself\u001b[0m\u001b[0;34m,\u001b[0m \u001b[0mmultiparams\u001b[0m\u001b[0;34m,\u001b[0m \u001b[0mparams\u001b[0m\u001b[0;34m,\u001b[0m \u001b[0mexecution_options\u001b[0m\u001b[0;34m\u001b[0m\u001b[0;34m\u001b[0m\u001b[0m\n\u001b[1;32m    334\u001b[0m             )\n",
      "\u001b[0;32m~/opt/anaconda3/lib/python3.9/site-packages/sqlalchemy/engine/base.py\u001b[0m in \u001b[0;36m_execute_clauseelement\u001b[0;34m(self, elem, multiparams, params, execution_options)\u001b[0m\n\u001b[1;32m   1496\u001b[0m             \u001b[0mlinting\u001b[0m\u001b[0;34m=\u001b[0m\u001b[0mself\u001b[0m\u001b[0;34m.\u001b[0m\u001b[0mdialect\u001b[0m\u001b[0;34m.\u001b[0m\u001b[0mcompiler_linting\u001b[0m \u001b[0;34m|\u001b[0m \u001b[0mcompiler\u001b[0m\u001b[0;34m.\u001b[0m\u001b[0mWARN_LINTING\u001b[0m\u001b[0;34m,\u001b[0m\u001b[0;34m\u001b[0m\u001b[0;34m\u001b[0m\u001b[0m\n\u001b[1;32m   1497\u001b[0m         )\n\u001b[0;32m-> 1498\u001b[0;31m         ret = self._execute_context(\n\u001b[0m\u001b[1;32m   1499\u001b[0m             \u001b[0mdialect\u001b[0m\u001b[0;34m,\u001b[0m\u001b[0;34m\u001b[0m\u001b[0;34m\u001b[0m\u001b[0m\n\u001b[1;32m   1500\u001b[0m             \u001b[0mdialect\u001b[0m\u001b[0;34m.\u001b[0m\u001b[0mexecution_ctx_cls\u001b[0m\u001b[0;34m.\u001b[0m\u001b[0m_init_compiled\u001b[0m\u001b[0;34m,\u001b[0m\u001b[0;34m\u001b[0m\u001b[0;34m\u001b[0m\u001b[0m\n",
      "\u001b[0;32m~/opt/anaconda3/lib/python3.9/site-packages/sqlalchemy/engine/base.py\u001b[0m in \u001b[0;36m_execute_context\u001b[0;34m(self, dialect, constructor, statement, parameters, execution_options, *args, **kw)\u001b[0m\n\u001b[1;32m   1860\u001b[0m \u001b[0;34m\u001b[0m\u001b[0m\n\u001b[1;32m   1861\u001b[0m         \u001b[0;32mexcept\u001b[0m \u001b[0mBaseException\u001b[0m \u001b[0;32mas\u001b[0m \u001b[0me\u001b[0m\u001b[0;34m:\u001b[0m\u001b[0;34m\u001b[0m\u001b[0;34m\u001b[0m\u001b[0m\n\u001b[0;32m-> 1862\u001b[0;31m             self._handle_dbapi_exception(\n\u001b[0m\u001b[1;32m   1863\u001b[0m                 \u001b[0me\u001b[0m\u001b[0;34m,\u001b[0m \u001b[0mstatement\u001b[0m\u001b[0;34m,\u001b[0m \u001b[0mparameters\u001b[0m\u001b[0;34m,\u001b[0m \u001b[0mcursor\u001b[0m\u001b[0;34m,\u001b[0m \u001b[0mcontext\u001b[0m\u001b[0;34m\u001b[0m\u001b[0;34m\u001b[0m\u001b[0m\n\u001b[1;32m   1864\u001b[0m             )\n",
      "\u001b[0;32m~/opt/anaconda3/lib/python3.9/site-packages/sqlalchemy/engine/base.py\u001b[0m in \u001b[0;36m_handle_dbapi_exception\u001b[0;34m(self, e, statement, parameters, cursor, context)\u001b[0m\n\u001b[1;32m   2041\u001b[0m                 \u001b[0mutil\u001b[0m\u001b[0;34m.\u001b[0m\u001b[0mraise_\u001b[0m\u001b[0;34m(\u001b[0m\u001b[0mnewraise\u001b[0m\u001b[0;34m,\u001b[0m \u001b[0mwith_traceback\u001b[0m\u001b[0;34m=\u001b[0m\u001b[0mexc_info\u001b[0m\u001b[0;34m[\u001b[0m\u001b[0;36m2\u001b[0m\u001b[0;34m]\u001b[0m\u001b[0;34m,\u001b[0m \u001b[0mfrom_\u001b[0m\u001b[0;34m=\u001b[0m\u001b[0me\u001b[0m\u001b[0;34m)\u001b[0m\u001b[0;34m\u001b[0m\u001b[0;34m\u001b[0m\u001b[0m\n\u001b[1;32m   2042\u001b[0m             \u001b[0;32melif\u001b[0m \u001b[0mshould_wrap\u001b[0m\u001b[0;34m:\u001b[0m\u001b[0;34m\u001b[0m\u001b[0;34m\u001b[0m\u001b[0m\n\u001b[0;32m-> 2043\u001b[0;31m                 util.raise_(\n\u001b[0m\u001b[1;32m   2044\u001b[0m                     \u001b[0msqlalchemy_exception\u001b[0m\u001b[0;34m,\u001b[0m \u001b[0mwith_traceback\u001b[0m\u001b[0;34m=\u001b[0m\u001b[0mexc_info\u001b[0m\u001b[0;34m[\u001b[0m\u001b[0;36m2\u001b[0m\u001b[0;34m]\u001b[0m\u001b[0;34m,\u001b[0m \u001b[0mfrom_\u001b[0m\u001b[0;34m=\u001b[0m\u001b[0me\u001b[0m\u001b[0;34m\u001b[0m\u001b[0;34m\u001b[0m\u001b[0m\n\u001b[1;32m   2045\u001b[0m                 )\n",
      "\u001b[0;32m~/opt/anaconda3/lib/python3.9/site-packages/sqlalchemy/util/compat.py\u001b[0m in \u001b[0;36mraise_\u001b[0;34m(***failed resolving arguments***)\u001b[0m\n\u001b[1;32m    206\u001b[0m \u001b[0;34m\u001b[0m\u001b[0m\n\u001b[1;32m    207\u001b[0m         \u001b[0;32mtry\u001b[0m\u001b[0;34m:\u001b[0m\u001b[0;34m\u001b[0m\u001b[0;34m\u001b[0m\u001b[0m\n\u001b[0;32m--> 208\u001b[0;31m             \u001b[0;32mraise\u001b[0m \u001b[0mexception\u001b[0m\u001b[0;34m\u001b[0m\u001b[0;34m\u001b[0m\u001b[0m\n\u001b[0m\u001b[1;32m    209\u001b[0m         \u001b[0;32mfinally\u001b[0m\u001b[0;34m:\u001b[0m\u001b[0;34m\u001b[0m\u001b[0;34m\u001b[0m\u001b[0m\n\u001b[1;32m    210\u001b[0m             \u001b[0;31m# credit to\u001b[0m\u001b[0;34m\u001b[0m\u001b[0;34m\u001b[0m\u001b[0m\n",
      "\u001b[0;32m~/opt/anaconda3/lib/python3.9/site-packages/sqlalchemy/engine/base.py\u001b[0m in \u001b[0;36m_execute_context\u001b[0;34m(self, dialect, constructor, statement, parameters, execution_options, *args, **kw)\u001b[0m\n\u001b[1;32m   1797\u001b[0m                             \u001b[0;32mbreak\u001b[0m\u001b[0;34m\u001b[0m\u001b[0;34m\u001b[0m\u001b[0m\n\u001b[1;32m   1798\u001b[0m                 \u001b[0;32mif\u001b[0m \u001b[0;32mnot\u001b[0m \u001b[0mevt_handled\u001b[0m\u001b[0;34m:\u001b[0m\u001b[0;34m\u001b[0m\u001b[0;34m\u001b[0m\u001b[0m\n\u001b[0;32m-> 1799\u001b[0;31m                     self.dialect.do_executemany(\n\u001b[0m\u001b[1;32m   1800\u001b[0m                         \u001b[0mcursor\u001b[0m\u001b[0;34m,\u001b[0m \u001b[0mstatement\u001b[0m\u001b[0;34m,\u001b[0m \u001b[0mparameters\u001b[0m\u001b[0;34m,\u001b[0m \u001b[0mcontext\u001b[0m\u001b[0;34m\u001b[0m\u001b[0;34m\u001b[0m\u001b[0m\n\u001b[1;32m   1801\u001b[0m                     )\n",
      "\u001b[0;32m~/opt/anaconda3/lib/python3.9/site-packages/sqlalchemy/dialects/postgresql/psycopg2.py\u001b[0m in \u001b[0;36mdo_executemany\u001b[0;34m(self, cursor, statement, parameters, context)\u001b[0m\n\u001b[1;32m    951\u001b[0m                 \u001b[0mkwargs\u001b[0m \u001b[0;34m=\u001b[0m \u001b[0;34m{\u001b[0m\u001b[0;34m}\u001b[0m\u001b[0;34m\u001b[0m\u001b[0;34m\u001b[0m\u001b[0m\n\u001b[1;32m    952\u001b[0m             \u001b[0mxtras\u001b[0m \u001b[0;34m=\u001b[0m \u001b[0mself\u001b[0m\u001b[0;34m.\u001b[0m\u001b[0m_psycopg2_extras\u001b[0m\u001b[0;34m(\u001b[0m\u001b[0;34m)\u001b[0m\u001b[0;34m\u001b[0m\u001b[0;34m\u001b[0m\u001b[0m\n\u001b[0;32m--> 953\u001b[0;31m             context._psycopg2_fetched_rows = xtras.execute_values(\n\u001b[0m\u001b[1;32m    954\u001b[0m                 \u001b[0mcursor\u001b[0m\u001b[0;34m,\u001b[0m\u001b[0;34m\u001b[0m\u001b[0;34m\u001b[0m\u001b[0m\n\u001b[1;32m    955\u001b[0m                 \u001b[0mstatement\u001b[0m\u001b[0;34m,\u001b[0m\u001b[0;34m\u001b[0m\u001b[0;34m\u001b[0m\u001b[0m\n",
      "\u001b[0;32m~/opt/anaconda3/lib/python3.9/site-packages/psycopg2/extras.py\u001b[0m in \u001b[0;36mexecute_values\u001b[0;34m(cur, sql, argslist, template, page_size, fetch)\u001b[0m\n\u001b[1;32m   1297\u001b[0m             \u001b[0mparts\u001b[0m\u001b[0;34m.\u001b[0m\u001b[0mappend\u001b[0m\u001b[0;34m(\u001b[0m\u001b[0;34mb','\u001b[0m\u001b[0;34m)\u001b[0m\u001b[0;34m\u001b[0m\u001b[0;34m\u001b[0m\u001b[0m\n\u001b[1;32m   1298\u001b[0m         \u001b[0mparts\u001b[0m\u001b[0;34m[\u001b[0m\u001b[0;34m-\u001b[0m\u001b[0;36m1\u001b[0m\u001b[0;34m:\u001b[0m\u001b[0;34m]\u001b[0m \u001b[0;34m=\u001b[0m \u001b[0mpost\u001b[0m\u001b[0;34m\u001b[0m\u001b[0;34m\u001b[0m\u001b[0m\n\u001b[0;32m-> 1299\u001b[0;31m         \u001b[0mcur\u001b[0m\u001b[0;34m.\u001b[0m\u001b[0mexecute\u001b[0m\u001b[0;34m(\u001b[0m\u001b[0;34mb''\u001b[0m\u001b[0;34m.\u001b[0m\u001b[0mjoin\u001b[0m\u001b[0;34m(\u001b[0m\u001b[0mparts\u001b[0m\u001b[0;34m)\u001b[0m\u001b[0;34m)\u001b[0m\u001b[0;34m\u001b[0m\u001b[0;34m\u001b[0m\u001b[0m\n\u001b[0m\u001b[1;32m   1300\u001b[0m         \u001b[0;32mif\u001b[0m \u001b[0mfetch\u001b[0m\u001b[0;34m:\u001b[0m\u001b[0;34m\u001b[0m\u001b[0;34m\u001b[0m\u001b[0m\n\u001b[1;32m   1301\u001b[0m             \u001b[0mresult\u001b[0m\u001b[0;34m.\u001b[0m\u001b[0mextend\u001b[0m\u001b[0;34m(\u001b[0m\u001b[0mcur\u001b[0m\u001b[0;34m.\u001b[0m\u001b[0mfetchall\u001b[0m\u001b[0;34m(\u001b[0m\u001b[0;34m)\u001b[0m\u001b[0;34m)\u001b[0m\u001b[0;34m\u001b[0m\u001b[0;34m\u001b[0m\u001b[0m\n",
      "\u001b[0;31mDataError\u001b[0m: (psycopg2.errors.StringDataRightTruncation) value too long for type character varying(2)\n\n[SQL: INSERT INTO code_share (operated_or_branded_code_share_partners, marketing_airline) VALUES (%(operated_or_branded_code_share_partners)s, %(marketing_airline)s)]\n[parameters: ({'operated_or_branded_code_share_partners': 'DL_CODESHARE', 'marketing_airline': 'DL'}, {'operated_or_branded_code_share_partners': 'B6', 'marketing_airline': 'B6'}, {'operated_or_branded_code_share_partners': 'UA_CODESHARE', 'marketing_airline': 'UA'}, {'operated_or_branded_code_share_partners': 'G4', 'marketing_airline': 'G4'}, {'operated_or_branded_code_share_partners': 'HA', 'marketing_airline': 'HA'}, {'operated_or_branded_code_share_partners': 'NK', 'marketing_airline': 'NK'}, {'operated_or_branded_code_share_partners': 'AS_CODESHARE', 'marketing_airline': 'AS'}, {'operated_or_branded_code_share_partners': 'F9', 'marketing_airline': 'F9'}  ... displaying 10 of 16 total bound parameter sets ...  {'operated_or_branded_code_share_partners': 'AA_CODESHARE', 'marketing_airline': 'AA'}, {'operated_or_branded_code_share_partners': 'AA', 'marketing_airline': 'AA'})]\n(Background on this error at: https://sqlalche.me/e/14/9h9h)"
     ]
    }
   ],
   "source": [
    "# Write the contents of the 'temp_code_share_df' DataFrame to a SQL database table named 'code_share'\n",
    "temp_code_share_df.to_sql(name='code_share', con=engine, if_exists='append', index=False)"
   ]
  },
  {
   "cell_type": "markdown",
   "id": "64b9825b",
   "metadata": {},
   "source": [
    "#### --- state ---"
   ]
  },
  {
   "cell_type": "code",
   "execution_count": null,
   "id": "8bc8139c",
   "metadata": {},
   "outputs": [],
   "source": [
    "# Rename the columns 'OriginState' to 'state_code', 'OriginStateName' to 'state_name', 'OriginStateFips' to 'state_fips', and 'OriginWac' to 'wac'\n",
    "df = df.rename(columns={'OriginState': 'state_code', 'OriginStateName': 'state_name', 'OriginStateFips': 'state_fips', 'OriginWac': 'wac'})\n",
    "\n",
    "# Select only the columns 'state_code', 'state_name', 'state_fips', and 'wac'\n",
    "state_df = df[['state_code', 'state_name', 'state_fips', 'wac']]\n",
    "\n",
    "# Select the unique values of the 'state_code' column from the 'state_df' DataFrame and create a new DataFrame 'temp_state_df'\n",
    "temp_state_df = pd.DataFrame(state_df.state_code.unique(), columns=['state_code'])\n",
    "\n",
    "# Merge the unique values with the original 'state_df' DataFrame based on the 'state_code' column\n",
    "temp_state_df = temp_state_df.merge(state_df.drop_duplicates(subset='state_code'), on='state_code')\n",
    "\n",
    "# Print the resulting DataFrame\n",
    "print(temp_state_df.head())"
   ]
  },
  {
   "cell_type": "code",
   "execution_count": null,
   "id": "31365bb0",
   "metadata": {},
   "outputs": [],
   "source": [
    "# Write the contents of the 'temp_state_df' DataFrame to a SQL database table named 'state'\n",
    "temp_state_df.to_sql(name='state', con=engine, if_exists='append', index=False)"
   ]
  },
  {
   "cell_type": "markdown",
   "id": "6512e452",
   "metadata": {},
   "source": [
    "#### --- city ---"
   ]
  },
  {
   "cell_type": "code",
   "execution_count": null,
   "id": "cab21dd0",
   "metadata": {},
   "outputs": [],
   "source": [
    "# Rename the columns 'OriginCityName' to 'cityName' and 'OriginCityMarketID' to 'cityMarketID'\n",
    "df = df.rename(columns={'OriginCityName': 'cityname', 'OriginCityMarketID': 'cityMarketID'})\n",
    "\n",
    "# Select only the columns 'cityName', 'state_code', and 'cityMarketID'\n",
    "city_df = df[['cityname', 'state_code', 'cityMarketID']]\n",
    "\n",
    "# Select the unique values from the 'cityName' column of the 'city_df' DataFrame\n",
    "temp_city_df = pd.DataFrame(city_df.cityname.unique(), columns=['cityname'])\n",
    "\n",
    "# Add a new 'city_id' column with a sequence of integers starting from 1\n",
    "temp_city_df.insert(0, 'city_id', range(1, 1 + len(temp_city_df)))\n",
    "\n",
    "# Merge 'temp_city_df' with 'city_df' on the 'cityname' column\n",
    "temp_city_df = temp_city_df.merge(city_df.drop_duplicates(subset='cityname'), on='cityname')\n",
    "\n",
    "# Print the resulting DataFrame\n",
    "print(temp_city_df.head())"
   ]
  },
  {
   "cell_type": "code",
   "execution_count": null,
   "id": "1feec15d",
   "metadata": {},
   "outputs": [],
   "source": [
    "# adding id back to df\n",
    "city_id_list = [temp_city_df.city_id[temp_city_df.cityname == i].values[0] for i in df.cityname]\n",
    "\n",
    "df.insert(5, 'city_id', city_id_list)"
   ]
  },
  {
   "cell_type": "code",
   "execution_count": null,
   "id": "408d00ba",
   "metadata": {},
   "outputs": [],
   "source": [
    "# Split the 'cityName' column by a comma delimiter and keep only the city name\n",
    "temp_city_df['cityname'] = temp_city_df['cityname'].str.split(',').str.get(0)\n",
    "\n",
    "# Print the resulting DataFrame\n",
    "print(temp_city_df.head())"
   ]
  },
  {
   "cell_type": "code",
   "execution_count": null,
   "id": "5ecd29ce",
   "metadata": {},
   "outputs": [],
   "source": [
    "# Fix error, rename the wrong column\n",
    "temp_city_df = temp_city_df.rename(columns={'cityMarketID':'citymarketid'})"
   ]
  },
  {
   "cell_type": "code",
   "execution_count": null,
   "id": "a263c1c0",
   "metadata": {},
   "outputs": [],
   "source": [
    "temp_city_df.to_sql(name='city', con=engine, if_exists='append', index=False)"
   ]
  },
  {
   "cell_type": "markdown",
   "id": "5f78c1dc",
   "metadata": {},
   "source": [
    "#### --- date_info ---"
   ]
  },
  {
   "cell_type": "code",
   "execution_count": 24,
   "id": "ce777fb5",
   "metadata": {},
   "outputs": [
    {
     "data": {
      "text/html": [
       "<div>\n",
       "<style scoped>\n",
       "    .dataframe tbody tr th:only-of-type {\n",
       "        vertical-align: middle;\n",
       "    }\n",
       "\n",
       "    .dataframe tbody tr th {\n",
       "        vertical-align: top;\n",
       "    }\n",
       "\n",
       "    .dataframe thead th {\n",
       "        text-align: right;\n",
       "    }\n",
       "</style>\n",
       "<table border=\"1\" class=\"dataframe\">\n",
       "  <thead>\n",
       "    <tr style=\"text-align: right;\">\n",
       "      <th></th>\n",
       "      <th>flightdate</th>\n",
       "      <th>year</th>\n",
       "      <th>quarter</th>\n",
       "      <th>month</th>\n",
       "      <th>dayofmonth</th>\n",
       "      <th>dayofweek</th>\n",
       "    </tr>\n",
       "  </thead>\n",
       "  <tbody>\n",
       "    <tr>\n",
       "      <th>0</th>\n",
       "      <td>2018-01-23</td>\n",
       "      <td>2018</td>\n",
       "      <td>1</td>\n",
       "      <td>1</td>\n",
       "      <td>23</td>\n",
       "      <td>2</td>\n",
       "    </tr>\n",
       "    <tr>\n",
       "      <th>1</th>\n",
       "      <td>2018-01-24</td>\n",
       "      <td>2018</td>\n",
       "      <td>1</td>\n",
       "      <td>1</td>\n",
       "      <td>24</td>\n",
       "      <td>3</td>\n",
       "    </tr>\n",
       "    <tr>\n",
       "      <th>2</th>\n",
       "      <td>2018-01-25</td>\n",
       "      <td>2018</td>\n",
       "      <td>1</td>\n",
       "      <td>1</td>\n",
       "      <td>25</td>\n",
       "      <td>4</td>\n",
       "    </tr>\n",
       "    <tr>\n",
       "      <th>3</th>\n",
       "      <td>2018-01-26</td>\n",
       "      <td>2018</td>\n",
       "      <td>1</td>\n",
       "      <td>1</td>\n",
       "      <td>26</td>\n",
       "      <td>5</td>\n",
       "    </tr>\n",
       "    <tr>\n",
       "      <th>4</th>\n",
       "      <td>2018-01-27</td>\n",
       "      <td>2018</td>\n",
       "      <td>1</td>\n",
       "      <td>1</td>\n",
       "      <td>27</td>\n",
       "      <td>6</td>\n",
       "    </tr>\n",
       "  </tbody>\n",
       "</table>\n",
       "</div>"
      ],
      "text/plain": [
       "   flightdate  year  quarter  month  dayofmonth  dayofweek\n",
       "0  2018-01-23  2018        1      1          23          2\n",
       "1  2018-01-24  2018        1      1          24          3\n",
       "2  2018-01-25  2018        1      1          25          4\n",
       "3  2018-01-26  2018        1      1          26          5\n",
       "4  2018-01-27  2018        1      1          27          6"
      ]
     },
     "execution_count": 24,
     "metadata": {},
     "output_type": "execute_result"
    }
   ],
   "source": [
    "# creating our date_info table \n",
    "date_info_df = df[['FlightDate', 'Year', 'Quarter', 'Month', 'DayofMonth', 'DayOfWeek']]\n",
    "\n",
    "# drop duplicate\n",
    "date_info_df = date_info_df.drop_duplicates().reset_index(drop=True)\n",
    "\n",
    "# rename\n",
    "date_info_df = date_info_df.rename(columns={\n",
    "    'FlightDate': 'flightdate',\n",
    "    'Year': 'year',\n",
    "    'Quarter': 'quarter',\n",
    "    'Month': 'month',\n",
    "    'DayofMonth': 'dayofmonth',\n",
    "    'DayOfWeek': 'dayofweek'\n",
    "})\n",
    "\n",
    "date_info_df.head()"
   ]
  },
  {
   "cell_type": "code",
   "execution_count": 25,
   "id": "82281e03",
   "metadata": {},
   "outputs": [
    {
     "data": {
      "text/plain": [
       "673"
      ]
     },
     "execution_count": 25,
     "metadata": {},
     "output_type": "execute_result"
    }
   ],
   "source": [
    "# load the relation to sql\n",
    "date_info_df.to_sql(name='date_info', con=engine, if_exists='append', index=False)"
   ]
  },
  {
   "cell_type": "markdown",
   "id": "835a9480",
   "metadata": {},
   "source": [
    "#### --- airport ---"
   ]
  },
  {
   "cell_type": "code",
   "execution_count": 31,
   "id": "3def3d8c",
   "metadata": {},
   "outputs": [
    {
     "data": {
      "text/html": [
       "<div>\n",
       "<style scoped>\n",
       "    .dataframe tbody tr th:only-of-type {\n",
       "        vertical-align: middle;\n",
       "    }\n",
       "\n",
       "    .dataframe tbody tr th {\n",
       "        vertical-align: top;\n",
       "    }\n",
       "\n",
       "    .dataframe thead th {\n",
       "        text-align: right;\n",
       "    }\n",
       "</style>\n",
       "<table border=\"1\" class=\"dataframe\">\n",
       "  <thead>\n",
       "    <tr style=\"text-align: right;\">\n",
       "      <th></th>\n",
       "      <th>airport_CODE</th>\n",
       "      <th>airport_ID</th>\n",
       "      <th>airportseq_ID</th>\n",
       "      <th>city_id</th>\n",
       "    </tr>\n",
       "  </thead>\n",
       "  <tbody>\n",
       "    <tr>\n",
       "      <th>0</th>\n",
       "      <td>ABY</td>\n",
       "      <td>10146</td>\n",
       "      <td>1014602</td>\n",
       "      <td>Albany, GA</td>\n",
       "    </tr>\n",
       "    <tr>\n",
       "      <th>1</th>\n",
       "      <td>ATL</td>\n",
       "      <td>10397</td>\n",
       "      <td>1039707</td>\n",
       "      <td>Atlanta, GA</td>\n",
       "    </tr>\n",
       "    <tr>\n",
       "      <th>2</th>\n",
       "      <td>MOB</td>\n",
       "      <td>13422</td>\n",
       "      <td>1342202</td>\n",
       "      <td>Mobile, AL</td>\n",
       "    </tr>\n",
       "    <tr>\n",
       "      <th>3</th>\n",
       "      <td>BUF</td>\n",
       "      <td>10792</td>\n",
       "      <td>1079206</td>\n",
       "      <td>Buffalo, NY</td>\n",
       "    </tr>\n",
       "    <tr>\n",
       "      <th>4</th>\n",
       "      <td>BTV</td>\n",
       "      <td>10785</td>\n",
       "      <td>1078502</td>\n",
       "      <td>Burlington, VT</td>\n",
       "    </tr>\n",
       "  </tbody>\n",
       "</table>\n",
       "</div>"
      ],
      "text/plain": [
       "  airport_CODE  airport_ID  airportseq_ID         city_id\n",
       "0          ABY       10146        1014602      Albany, GA\n",
       "1          ATL       10397        1039707     Atlanta, GA\n",
       "2          MOB       13422        1342202      Mobile, AL\n",
       "3          BUF       10792        1079206     Buffalo, NY\n",
       "4          BTV       10785        1078502  Burlington, VT"
      ]
     },
     "execution_count": 31,
     "metadata": {},
     "output_type": "execute_result"
    }
   ],
   "source": [
    "# creating our airport table \n",
    "ori_df = df[['Origin', 'OriginAirportID', 'OriginAirportSeqID', 'city_id']]\n",
    "ori_df = ori_df.rename(columns={'Origin': 'airport_CODE', 'OriginAirportID': 'airport_ID', 'OriginAirportSeqID': 'airportseq_ID'})\n",
    "\n",
    "des_df = df[['Dest', 'DestAirportID', 'DestAirportSeqID', 'city_id']]\n",
    "des_df = des_df.rename(columns={'Dest': 'airport_CODE', 'DestAirportID': 'airport_ID', 'DestAirportSeqID': 'airportseq_ID'})\n",
    "\n",
    "\n",
    "airport_df = airport_df = pd.concat([ori_df, des_df])\n",
    "\n",
    "# drop duplicate\n",
    "airport_df = airport_df.drop_duplicates().reset_index(drop=True)\n",
    "\n",
    "airport_df.head()"
   ]
  },
  {
   "cell_type": "code",
   "execution_count": 32,
   "id": "27b2db50",
   "metadata": {},
   "outputs": [
    {
     "ename": "ProgrammingError",
     "evalue": "(psycopg2.errors.UndefinedColumn) column \"airport_CODE\" of relation \"airport\" does not exist\nLINE 1: INSERT INTO airport (\"airport_CODE\", \"airport_ID\", \"airports...\n                             ^\n\n[SQL: INSERT INTO airport (\"airport_CODE\", \"airport_ID\", \"airportseq_ID\", city_id) VALUES (%(airport_CODE)s, %(airport_ID)s, %(airportseq_ID)s, %(city_id)s)]\n[parameters: ({'airport_CODE': 'ABY', 'airport_ID': 10146, 'airportseq_ID': 1014602, 'city_id': 'Albany, GA'}, {'airport_CODE': 'ATL', 'airport_ID': 10397, 'airportseq_ID': 1039707, 'city_id': 'Atlanta, GA'}, {'airport_CODE': 'MOB', 'airport_ID': 13422, 'airportseq_ID': 1342202, 'city_id': 'Mobile, AL'}, {'airport_CODE': 'BUF', 'airport_ID': 10792, 'airportseq_ID': 1079206, 'city_id': 'Buffalo, NY'}, {'airport_CODE': 'BTV', 'airport_ID': 10785, 'airportseq_ID': 1078502, 'city_id': 'Burlington, VT'}, {'airport_CODE': 'CVG', 'airport_ID': 11193, 'airportseq_ID': 1119302, 'city_id': 'Cincinnati, OH'}, {'airport_CODE': 'LGA', 'airport_ID': 12953, 'airportseq_ID': 1295304, 'city_id': 'New York, NY'}, {'airport_CODE': 'CHO', 'airport_ID': 10990, 'airportseq_ID': 1099005, 'city_id': 'Charlottesville, VA'}  ... displaying 10 of 431 total bound parameter sets ...  {'airport_CODE': 'TBN', 'airport_ID': 15138, 'airportseq_ID': 1513802, 'city_id': 'Fort Leonard Wood, MO'}, {'airport_CODE': 'BIH', 'airport_ID': 10617, 'airportseq_ID': 1061705, 'city_id': 'Bishop, CA'})]\n(Background on this error at: https://sqlalche.me/e/14/f405)",
     "output_type": "error",
     "traceback": [
      "\u001b[1;31m---------------------------------------------------------------------------\u001b[0m",
      "\u001b[1;31mUndefinedColumn\u001b[0m                           Traceback (most recent call last)",
      "\u001b[1;32m~\\anaconda3\\lib\\site-packages\\sqlalchemy\\engine\\base.py\u001b[0m in \u001b[0;36m_execute_context\u001b[1;34m(self, dialect, constructor, statement, parameters, execution_options, *args, **kw)\u001b[0m\n\u001b[0;32m   1798\u001b[0m                 \u001b[1;32mif\u001b[0m \u001b[1;32mnot\u001b[0m \u001b[0mevt_handled\u001b[0m\u001b[1;33m:\u001b[0m\u001b[1;33m\u001b[0m\u001b[1;33m\u001b[0m\u001b[0m\n\u001b[1;32m-> 1799\u001b[1;33m                     self.dialect.do_executemany(\n\u001b[0m\u001b[0;32m   1800\u001b[0m                         \u001b[0mcursor\u001b[0m\u001b[1;33m,\u001b[0m \u001b[0mstatement\u001b[0m\u001b[1;33m,\u001b[0m \u001b[0mparameters\u001b[0m\u001b[1;33m,\u001b[0m \u001b[0mcontext\u001b[0m\u001b[1;33m\u001b[0m\u001b[1;33m\u001b[0m\u001b[0m\n",
      "\u001b[1;32m~\\anaconda3\\lib\\site-packages\\sqlalchemy\\dialects\\postgresql\\psycopg2.py\u001b[0m in \u001b[0;36mdo_executemany\u001b[1;34m(self, cursor, statement, parameters, context)\u001b[0m\n\u001b[0;32m    952\u001b[0m             \u001b[0mxtras\u001b[0m \u001b[1;33m=\u001b[0m \u001b[0mself\u001b[0m\u001b[1;33m.\u001b[0m\u001b[0m_psycopg2_extras\u001b[0m\u001b[1;33m(\u001b[0m\u001b[1;33m)\u001b[0m\u001b[1;33m\u001b[0m\u001b[1;33m\u001b[0m\u001b[0m\n\u001b[1;32m--> 953\u001b[1;33m             context._psycopg2_fetched_rows = xtras.execute_values(\n\u001b[0m\u001b[0;32m    954\u001b[0m                 \u001b[0mcursor\u001b[0m\u001b[1;33m,\u001b[0m\u001b[1;33m\u001b[0m\u001b[1;33m\u001b[0m\u001b[0m\n",
      "\u001b[1;32m~\\anaconda3\\lib\\site-packages\\psycopg2\\extras.py\u001b[0m in \u001b[0;36mexecute_values\u001b[1;34m(cur, sql, argslist, template, page_size, fetch)\u001b[0m\n\u001b[0;32m   1298\u001b[0m         \u001b[0mparts\u001b[0m\u001b[1;33m[\u001b[0m\u001b[1;33m-\u001b[0m\u001b[1;36m1\u001b[0m\u001b[1;33m:\u001b[0m\u001b[1;33m]\u001b[0m \u001b[1;33m=\u001b[0m \u001b[0mpost\u001b[0m\u001b[1;33m\u001b[0m\u001b[1;33m\u001b[0m\u001b[0m\n\u001b[1;32m-> 1299\u001b[1;33m         \u001b[0mcur\u001b[0m\u001b[1;33m.\u001b[0m\u001b[0mexecute\u001b[0m\u001b[1;33m(\u001b[0m\u001b[1;34mb''\u001b[0m\u001b[1;33m.\u001b[0m\u001b[0mjoin\u001b[0m\u001b[1;33m(\u001b[0m\u001b[0mparts\u001b[0m\u001b[1;33m)\u001b[0m\u001b[1;33m)\u001b[0m\u001b[1;33m\u001b[0m\u001b[1;33m\u001b[0m\u001b[0m\n\u001b[0m\u001b[0;32m   1300\u001b[0m         \u001b[1;32mif\u001b[0m \u001b[0mfetch\u001b[0m\u001b[1;33m:\u001b[0m\u001b[1;33m\u001b[0m\u001b[1;33m\u001b[0m\u001b[0m\n",
      "\u001b[1;31mUndefinedColumn\u001b[0m: column \"airport_CODE\" of relation \"airport\" does not exist\nLINE 1: INSERT INTO airport (\"airport_CODE\", \"airport_ID\", \"airports...\n                             ^\n",
      "\nThe above exception was the direct cause of the following exception:\n",
      "\u001b[1;31mProgrammingError\u001b[0m                          Traceback (most recent call last)",
      "\u001b[1;32m~\\AppData\\Local\\Temp\\ipykernel_27988\\2242437723.py\u001b[0m in \u001b[0;36m<module>\u001b[1;34m\u001b[0m\n\u001b[0;32m      1\u001b[0m \u001b[1;31m# load the relation to sql\u001b[0m\u001b[1;33m\u001b[0m\u001b[1;33m\u001b[0m\u001b[0m\n\u001b[1;32m----> 2\u001b[1;33m \u001b[0mairport_df\u001b[0m\u001b[1;33m.\u001b[0m\u001b[0mto_sql\u001b[0m\u001b[1;33m(\u001b[0m\u001b[0mname\u001b[0m\u001b[1;33m=\u001b[0m\u001b[1;34m'airport'\u001b[0m\u001b[1;33m,\u001b[0m \u001b[0mcon\u001b[0m\u001b[1;33m=\u001b[0m\u001b[0mengine\u001b[0m\u001b[1;33m,\u001b[0m \u001b[0mif_exists\u001b[0m\u001b[1;33m=\u001b[0m\u001b[1;34m'append'\u001b[0m\u001b[1;33m,\u001b[0m \u001b[0mindex\u001b[0m\u001b[1;33m=\u001b[0m\u001b[1;32mFalse\u001b[0m\u001b[1;33m)\u001b[0m\u001b[1;33m\u001b[0m\u001b[1;33m\u001b[0m\u001b[0m\n\u001b[0m",
      "\u001b[1;32m~\\anaconda3\\lib\\site-packages\\pandas\\core\\generic.py\u001b[0m in \u001b[0;36mto_sql\u001b[1;34m(self, name, con, schema, if_exists, index, index_label, chunksize, dtype, method)\u001b[0m\n\u001b[0;32m   2949\u001b[0m         \u001b[1;32mfrom\u001b[0m \u001b[0mpandas\u001b[0m\u001b[1;33m.\u001b[0m\u001b[0mio\u001b[0m \u001b[1;32mimport\u001b[0m \u001b[0msql\u001b[0m\u001b[1;33m\u001b[0m\u001b[1;33m\u001b[0m\u001b[0m\n\u001b[0;32m   2950\u001b[0m \u001b[1;33m\u001b[0m\u001b[0m\n\u001b[1;32m-> 2951\u001b[1;33m         return sql.to_sql(\n\u001b[0m\u001b[0;32m   2952\u001b[0m             \u001b[0mself\u001b[0m\u001b[1;33m,\u001b[0m\u001b[1;33m\u001b[0m\u001b[1;33m\u001b[0m\u001b[0m\n\u001b[0;32m   2953\u001b[0m             \u001b[0mname\u001b[0m\u001b[1;33m,\u001b[0m\u001b[1;33m\u001b[0m\u001b[1;33m\u001b[0m\u001b[0m\n",
      "\u001b[1;32m~\\anaconda3\\lib\\site-packages\\pandas\\io\\sql.py\u001b[0m in \u001b[0;36mto_sql\u001b[1;34m(frame, name, con, schema, if_exists, index, index_label, chunksize, dtype, method, engine, **engine_kwargs)\u001b[0m\n\u001b[0;32m    696\u001b[0m         )\n\u001b[0;32m    697\u001b[0m \u001b[1;33m\u001b[0m\u001b[0m\n\u001b[1;32m--> 698\u001b[1;33m     return pandas_sql.to_sql(\n\u001b[0m\u001b[0;32m    699\u001b[0m         \u001b[0mframe\u001b[0m\u001b[1;33m,\u001b[0m\u001b[1;33m\u001b[0m\u001b[1;33m\u001b[0m\u001b[0m\n\u001b[0;32m    700\u001b[0m         \u001b[0mname\u001b[0m\u001b[1;33m,\u001b[0m\u001b[1;33m\u001b[0m\u001b[1;33m\u001b[0m\u001b[0m\n",
      "\u001b[1;32m~\\anaconda3\\lib\\site-packages\\pandas\\io\\sql.py\u001b[0m in \u001b[0;36mto_sql\u001b[1;34m(self, frame, name, if_exists, index, index_label, schema, chunksize, dtype, method, engine, **engine_kwargs)\u001b[0m\n\u001b[0;32m   1740\u001b[0m         )\n\u001b[0;32m   1741\u001b[0m \u001b[1;33m\u001b[0m\u001b[0m\n\u001b[1;32m-> 1742\u001b[1;33m         total_inserted = sql_engine.insert_records(\n\u001b[0m\u001b[0;32m   1743\u001b[0m             \u001b[0mtable\u001b[0m\u001b[1;33m=\u001b[0m\u001b[0mtable\u001b[0m\u001b[1;33m,\u001b[0m\u001b[1;33m\u001b[0m\u001b[1;33m\u001b[0m\u001b[0m\n\u001b[0;32m   1744\u001b[0m             \u001b[0mcon\u001b[0m\u001b[1;33m=\u001b[0m\u001b[0mself\u001b[0m\u001b[1;33m.\u001b[0m\u001b[0mconnectable\u001b[0m\u001b[1;33m,\u001b[0m\u001b[1;33m\u001b[0m\u001b[1;33m\u001b[0m\u001b[0m\n",
      "\u001b[1;32m~\\anaconda3\\lib\\site-packages\\pandas\\io\\sql.py\u001b[0m in \u001b[0;36minsert_records\u001b[1;34m(self, table, con, frame, name, index, schema, chunksize, method, **engine_kwargs)\u001b[0m\n\u001b[0;32m   1333\u001b[0m                 \u001b[1;32mraise\u001b[0m \u001b[0mValueError\u001b[0m\u001b[1;33m(\u001b[0m\u001b[1;34m\"inf cannot be used with MySQL\"\u001b[0m\u001b[1;33m)\u001b[0m \u001b[1;32mfrom\u001b[0m \u001b[0merr\u001b[0m\u001b[1;33m\u001b[0m\u001b[1;33m\u001b[0m\u001b[0m\n\u001b[0;32m   1334\u001b[0m             \u001b[1;32melse\u001b[0m\u001b[1;33m:\u001b[0m\u001b[1;33m\u001b[0m\u001b[1;33m\u001b[0m\u001b[0m\n\u001b[1;32m-> 1335\u001b[1;33m                 \u001b[1;32mraise\u001b[0m \u001b[0merr\u001b[0m\u001b[1;33m\u001b[0m\u001b[1;33m\u001b[0m\u001b[0m\n\u001b[0m\u001b[0;32m   1336\u001b[0m \u001b[1;33m\u001b[0m\u001b[0m\n\u001b[0;32m   1337\u001b[0m \u001b[1;33m\u001b[0m\u001b[0m\n",
      "\u001b[1;32m~\\anaconda3\\lib\\site-packages\\pandas\\io\\sql.py\u001b[0m in \u001b[0;36minsert_records\u001b[1;34m(self, table, con, frame, name, index, schema, chunksize, method, **engine_kwargs)\u001b[0m\n\u001b[0;32m   1323\u001b[0m \u001b[1;33m\u001b[0m\u001b[0m\n\u001b[0;32m   1324\u001b[0m         \u001b[1;32mtry\u001b[0m\u001b[1;33m:\u001b[0m\u001b[1;33m\u001b[0m\u001b[1;33m\u001b[0m\u001b[0m\n\u001b[1;32m-> 1325\u001b[1;33m             \u001b[1;32mreturn\u001b[0m \u001b[0mtable\u001b[0m\u001b[1;33m.\u001b[0m\u001b[0minsert\u001b[0m\u001b[1;33m(\u001b[0m\u001b[0mchunksize\u001b[0m\u001b[1;33m=\u001b[0m\u001b[0mchunksize\u001b[0m\u001b[1;33m,\u001b[0m \u001b[0mmethod\u001b[0m\u001b[1;33m=\u001b[0m\u001b[0mmethod\u001b[0m\u001b[1;33m)\u001b[0m\u001b[1;33m\u001b[0m\u001b[1;33m\u001b[0m\u001b[0m\n\u001b[0m\u001b[0;32m   1326\u001b[0m         \u001b[1;32mexcept\u001b[0m \u001b[0mexc\u001b[0m\u001b[1;33m.\u001b[0m\u001b[0mSQLAlchemyError\u001b[0m \u001b[1;32mas\u001b[0m \u001b[0merr\u001b[0m\u001b[1;33m:\u001b[0m\u001b[1;33m\u001b[0m\u001b[1;33m\u001b[0m\u001b[0m\n\u001b[0;32m   1327\u001b[0m             \u001b[1;31m# GH34431\u001b[0m\u001b[1;33m\u001b[0m\u001b[1;33m\u001b[0m\u001b[0m\n",
      "\u001b[1;32m~\\anaconda3\\lib\\site-packages\\pandas\\io\\sql.py\u001b[0m in \u001b[0;36minsert\u001b[1;34m(self, chunksize, method)\u001b[0m\n\u001b[0;32m    949\u001b[0m \u001b[1;33m\u001b[0m\u001b[0m\n\u001b[0;32m    950\u001b[0m                 \u001b[0mchunk_iter\u001b[0m \u001b[1;33m=\u001b[0m \u001b[0mzip\u001b[0m\u001b[1;33m(\u001b[0m\u001b[1;33m*\u001b[0m\u001b[1;33m(\u001b[0m\u001b[0marr\u001b[0m\u001b[1;33m[\u001b[0m\u001b[0mstart_i\u001b[0m\u001b[1;33m:\u001b[0m\u001b[0mend_i\u001b[0m\u001b[1;33m]\u001b[0m \u001b[1;32mfor\u001b[0m \u001b[0marr\u001b[0m \u001b[1;32min\u001b[0m \u001b[0mdata_list\u001b[0m\u001b[1;33m)\u001b[0m\u001b[1;33m)\u001b[0m\u001b[1;33m\u001b[0m\u001b[1;33m\u001b[0m\u001b[0m\n\u001b[1;32m--> 951\u001b[1;33m                 \u001b[0mnum_inserted\u001b[0m \u001b[1;33m=\u001b[0m \u001b[0mexec_insert\u001b[0m\u001b[1;33m(\u001b[0m\u001b[0mconn\u001b[0m\u001b[1;33m,\u001b[0m \u001b[0mkeys\u001b[0m\u001b[1;33m,\u001b[0m \u001b[0mchunk_iter\u001b[0m\u001b[1;33m)\u001b[0m\u001b[1;33m\u001b[0m\u001b[1;33m\u001b[0m\u001b[0m\n\u001b[0m\u001b[0;32m    952\u001b[0m                 \u001b[1;31m# GH 46891\u001b[0m\u001b[1;33m\u001b[0m\u001b[1;33m\u001b[0m\u001b[0m\n\u001b[0;32m    953\u001b[0m                 \u001b[1;32mif\u001b[0m \u001b[0mis_integer\u001b[0m\u001b[1;33m(\u001b[0m\u001b[0mnum_inserted\u001b[0m\u001b[1;33m)\u001b[0m\u001b[1;33m:\u001b[0m\u001b[1;33m\u001b[0m\u001b[1;33m\u001b[0m\u001b[0m\n",
      "\u001b[1;32m~\\anaconda3\\lib\\site-packages\\pandas\\io\\sql.py\u001b[0m in \u001b[0;36m_execute_insert\u001b[1;34m(self, conn, keys, data_iter)\u001b[0m\n\u001b[0;32m    856\u001b[0m         \"\"\"\n\u001b[0;32m    857\u001b[0m         \u001b[0mdata\u001b[0m \u001b[1;33m=\u001b[0m \u001b[1;33m[\u001b[0m\u001b[0mdict\u001b[0m\u001b[1;33m(\u001b[0m\u001b[0mzip\u001b[0m\u001b[1;33m(\u001b[0m\u001b[0mkeys\u001b[0m\u001b[1;33m,\u001b[0m \u001b[0mrow\u001b[0m\u001b[1;33m)\u001b[0m\u001b[1;33m)\u001b[0m \u001b[1;32mfor\u001b[0m \u001b[0mrow\u001b[0m \u001b[1;32min\u001b[0m \u001b[0mdata_iter\u001b[0m\u001b[1;33m]\u001b[0m\u001b[1;33m\u001b[0m\u001b[1;33m\u001b[0m\u001b[0m\n\u001b[1;32m--> 858\u001b[1;33m         \u001b[0mresult\u001b[0m \u001b[1;33m=\u001b[0m \u001b[0mconn\u001b[0m\u001b[1;33m.\u001b[0m\u001b[0mexecute\u001b[0m\u001b[1;33m(\u001b[0m\u001b[0mself\u001b[0m\u001b[1;33m.\u001b[0m\u001b[0mtable\u001b[0m\u001b[1;33m.\u001b[0m\u001b[0minsert\u001b[0m\u001b[1;33m(\u001b[0m\u001b[1;33m)\u001b[0m\u001b[1;33m,\u001b[0m \u001b[0mdata\u001b[0m\u001b[1;33m)\u001b[0m\u001b[1;33m\u001b[0m\u001b[1;33m\u001b[0m\u001b[0m\n\u001b[0m\u001b[0;32m    859\u001b[0m         \u001b[1;32mreturn\u001b[0m \u001b[0mresult\u001b[0m\u001b[1;33m.\u001b[0m\u001b[0mrowcount\u001b[0m\u001b[1;33m\u001b[0m\u001b[1;33m\u001b[0m\u001b[0m\n\u001b[0;32m    860\u001b[0m \u001b[1;33m\u001b[0m\u001b[0m\n",
      "\u001b[1;32m~\\anaconda3\\lib\\site-packages\\sqlalchemy\\engine\\base.py\u001b[0m in \u001b[0;36mexecute\u001b[1;34m(self, statement, *multiparams, **params)\u001b[0m\n\u001b[0;32m   1304\u001b[0m             )\n\u001b[0;32m   1305\u001b[0m         \u001b[1;32melse\u001b[0m\u001b[1;33m:\u001b[0m\u001b[1;33m\u001b[0m\u001b[1;33m\u001b[0m\u001b[0m\n\u001b[1;32m-> 1306\u001b[1;33m             \u001b[1;32mreturn\u001b[0m \u001b[0mmeth\u001b[0m\u001b[1;33m(\u001b[0m\u001b[0mself\u001b[0m\u001b[1;33m,\u001b[0m \u001b[0mmultiparams\u001b[0m\u001b[1;33m,\u001b[0m \u001b[0mparams\u001b[0m\u001b[1;33m,\u001b[0m \u001b[0m_EMPTY_EXECUTION_OPTS\u001b[0m\u001b[1;33m)\u001b[0m\u001b[1;33m\u001b[0m\u001b[1;33m\u001b[0m\u001b[0m\n\u001b[0m\u001b[0;32m   1307\u001b[0m \u001b[1;33m\u001b[0m\u001b[0m\n\u001b[0;32m   1308\u001b[0m     \u001b[1;32mdef\u001b[0m \u001b[0m_execute_function\u001b[0m\u001b[1;33m(\u001b[0m\u001b[0mself\u001b[0m\u001b[1;33m,\u001b[0m \u001b[0mfunc\u001b[0m\u001b[1;33m,\u001b[0m \u001b[0mmultiparams\u001b[0m\u001b[1;33m,\u001b[0m \u001b[0mparams\u001b[0m\u001b[1;33m,\u001b[0m \u001b[0mexecution_options\u001b[0m\u001b[1;33m)\u001b[0m\u001b[1;33m:\u001b[0m\u001b[1;33m\u001b[0m\u001b[1;33m\u001b[0m\u001b[0m\n",
      "\u001b[1;32m~\\anaconda3\\lib\\site-packages\\sqlalchemy\\sql\\elements.py\u001b[0m in \u001b[0;36m_execute_on_connection\u001b[1;34m(self, connection, multiparams, params, execution_options, _force)\u001b[0m\n\u001b[0;32m    330\u001b[0m     ):\n\u001b[0;32m    331\u001b[0m         \u001b[1;32mif\u001b[0m \u001b[0m_force\u001b[0m \u001b[1;32mor\u001b[0m \u001b[0mself\u001b[0m\u001b[1;33m.\u001b[0m\u001b[0msupports_execution\u001b[0m\u001b[1;33m:\u001b[0m\u001b[1;33m\u001b[0m\u001b[1;33m\u001b[0m\u001b[0m\n\u001b[1;32m--> 332\u001b[1;33m             return connection._execute_clauseelement(\n\u001b[0m\u001b[0;32m    333\u001b[0m                 \u001b[0mself\u001b[0m\u001b[1;33m,\u001b[0m \u001b[0mmultiparams\u001b[0m\u001b[1;33m,\u001b[0m \u001b[0mparams\u001b[0m\u001b[1;33m,\u001b[0m \u001b[0mexecution_options\u001b[0m\u001b[1;33m\u001b[0m\u001b[1;33m\u001b[0m\u001b[0m\n\u001b[0;32m    334\u001b[0m             )\n",
      "\u001b[1;32m~\\anaconda3\\lib\\site-packages\\sqlalchemy\\engine\\base.py\u001b[0m in \u001b[0;36m_execute_clauseelement\u001b[1;34m(self, elem, multiparams, params, execution_options)\u001b[0m\n\u001b[0;32m   1496\u001b[0m             \u001b[0mlinting\u001b[0m\u001b[1;33m=\u001b[0m\u001b[0mself\u001b[0m\u001b[1;33m.\u001b[0m\u001b[0mdialect\u001b[0m\u001b[1;33m.\u001b[0m\u001b[0mcompiler_linting\u001b[0m \u001b[1;33m|\u001b[0m \u001b[0mcompiler\u001b[0m\u001b[1;33m.\u001b[0m\u001b[0mWARN_LINTING\u001b[0m\u001b[1;33m,\u001b[0m\u001b[1;33m\u001b[0m\u001b[1;33m\u001b[0m\u001b[0m\n\u001b[0;32m   1497\u001b[0m         )\n\u001b[1;32m-> 1498\u001b[1;33m         ret = self._execute_context(\n\u001b[0m\u001b[0;32m   1499\u001b[0m             \u001b[0mdialect\u001b[0m\u001b[1;33m,\u001b[0m\u001b[1;33m\u001b[0m\u001b[1;33m\u001b[0m\u001b[0m\n\u001b[0;32m   1500\u001b[0m             \u001b[0mdialect\u001b[0m\u001b[1;33m.\u001b[0m\u001b[0mexecution_ctx_cls\u001b[0m\u001b[1;33m.\u001b[0m\u001b[0m_init_compiled\u001b[0m\u001b[1;33m,\u001b[0m\u001b[1;33m\u001b[0m\u001b[1;33m\u001b[0m\u001b[0m\n",
      "\u001b[1;32m~\\anaconda3\\lib\\site-packages\\sqlalchemy\\engine\\base.py\u001b[0m in \u001b[0;36m_execute_context\u001b[1;34m(self, dialect, constructor, statement, parameters, execution_options, *args, **kw)\u001b[0m\n\u001b[0;32m   1860\u001b[0m \u001b[1;33m\u001b[0m\u001b[0m\n\u001b[0;32m   1861\u001b[0m         \u001b[1;32mexcept\u001b[0m \u001b[0mBaseException\u001b[0m \u001b[1;32mas\u001b[0m \u001b[0me\u001b[0m\u001b[1;33m:\u001b[0m\u001b[1;33m\u001b[0m\u001b[1;33m\u001b[0m\u001b[0m\n\u001b[1;32m-> 1862\u001b[1;33m             self._handle_dbapi_exception(\n\u001b[0m\u001b[0;32m   1863\u001b[0m                 \u001b[0me\u001b[0m\u001b[1;33m,\u001b[0m \u001b[0mstatement\u001b[0m\u001b[1;33m,\u001b[0m \u001b[0mparameters\u001b[0m\u001b[1;33m,\u001b[0m \u001b[0mcursor\u001b[0m\u001b[1;33m,\u001b[0m \u001b[0mcontext\u001b[0m\u001b[1;33m\u001b[0m\u001b[1;33m\u001b[0m\u001b[0m\n\u001b[0;32m   1864\u001b[0m             )\n",
      "\u001b[1;32m~\\anaconda3\\lib\\site-packages\\sqlalchemy\\engine\\base.py\u001b[0m in \u001b[0;36m_handle_dbapi_exception\u001b[1;34m(self, e, statement, parameters, cursor, context)\u001b[0m\n\u001b[0;32m   2041\u001b[0m                 \u001b[0mutil\u001b[0m\u001b[1;33m.\u001b[0m\u001b[0mraise_\u001b[0m\u001b[1;33m(\u001b[0m\u001b[0mnewraise\u001b[0m\u001b[1;33m,\u001b[0m \u001b[0mwith_traceback\u001b[0m\u001b[1;33m=\u001b[0m\u001b[0mexc_info\u001b[0m\u001b[1;33m[\u001b[0m\u001b[1;36m2\u001b[0m\u001b[1;33m]\u001b[0m\u001b[1;33m,\u001b[0m \u001b[0mfrom_\u001b[0m\u001b[1;33m=\u001b[0m\u001b[0me\u001b[0m\u001b[1;33m)\u001b[0m\u001b[1;33m\u001b[0m\u001b[1;33m\u001b[0m\u001b[0m\n\u001b[0;32m   2042\u001b[0m             \u001b[1;32melif\u001b[0m \u001b[0mshould_wrap\u001b[0m\u001b[1;33m:\u001b[0m\u001b[1;33m\u001b[0m\u001b[1;33m\u001b[0m\u001b[0m\n\u001b[1;32m-> 2043\u001b[1;33m                 util.raise_(\n\u001b[0m\u001b[0;32m   2044\u001b[0m                     \u001b[0msqlalchemy_exception\u001b[0m\u001b[1;33m,\u001b[0m \u001b[0mwith_traceback\u001b[0m\u001b[1;33m=\u001b[0m\u001b[0mexc_info\u001b[0m\u001b[1;33m[\u001b[0m\u001b[1;36m2\u001b[0m\u001b[1;33m]\u001b[0m\u001b[1;33m,\u001b[0m \u001b[0mfrom_\u001b[0m\u001b[1;33m=\u001b[0m\u001b[0me\u001b[0m\u001b[1;33m\u001b[0m\u001b[1;33m\u001b[0m\u001b[0m\n\u001b[0;32m   2045\u001b[0m                 )\n",
      "\u001b[1;32m~\\anaconda3\\lib\\site-packages\\sqlalchemy\\util\\compat.py\u001b[0m in \u001b[0;36mraise_\u001b[1;34m(***failed resolving arguments***)\u001b[0m\n\u001b[0;32m    206\u001b[0m \u001b[1;33m\u001b[0m\u001b[0m\n\u001b[0;32m    207\u001b[0m         \u001b[1;32mtry\u001b[0m\u001b[1;33m:\u001b[0m\u001b[1;33m\u001b[0m\u001b[1;33m\u001b[0m\u001b[0m\n\u001b[1;32m--> 208\u001b[1;33m             \u001b[1;32mraise\u001b[0m \u001b[0mexception\u001b[0m\u001b[1;33m\u001b[0m\u001b[1;33m\u001b[0m\u001b[0m\n\u001b[0m\u001b[0;32m    209\u001b[0m         \u001b[1;32mfinally\u001b[0m\u001b[1;33m:\u001b[0m\u001b[1;33m\u001b[0m\u001b[1;33m\u001b[0m\u001b[0m\n\u001b[0;32m    210\u001b[0m             \u001b[1;31m# credit to\u001b[0m\u001b[1;33m\u001b[0m\u001b[1;33m\u001b[0m\u001b[0m\n",
      "\u001b[1;32m~\\anaconda3\\lib\\site-packages\\sqlalchemy\\engine\\base.py\u001b[0m in \u001b[0;36m_execute_context\u001b[1;34m(self, dialect, constructor, statement, parameters, execution_options, *args, **kw)\u001b[0m\n\u001b[0;32m   1797\u001b[0m                             \u001b[1;32mbreak\u001b[0m\u001b[1;33m\u001b[0m\u001b[1;33m\u001b[0m\u001b[0m\n\u001b[0;32m   1798\u001b[0m                 \u001b[1;32mif\u001b[0m \u001b[1;32mnot\u001b[0m \u001b[0mevt_handled\u001b[0m\u001b[1;33m:\u001b[0m\u001b[1;33m\u001b[0m\u001b[1;33m\u001b[0m\u001b[0m\n\u001b[1;32m-> 1799\u001b[1;33m                     self.dialect.do_executemany(\n\u001b[0m\u001b[0;32m   1800\u001b[0m                         \u001b[0mcursor\u001b[0m\u001b[1;33m,\u001b[0m \u001b[0mstatement\u001b[0m\u001b[1;33m,\u001b[0m \u001b[0mparameters\u001b[0m\u001b[1;33m,\u001b[0m \u001b[0mcontext\u001b[0m\u001b[1;33m\u001b[0m\u001b[1;33m\u001b[0m\u001b[0m\n\u001b[0;32m   1801\u001b[0m                     )\n",
      "\u001b[1;32m~\\anaconda3\\lib\\site-packages\\sqlalchemy\\dialects\\postgresql\\psycopg2.py\u001b[0m in \u001b[0;36mdo_executemany\u001b[1;34m(self, cursor, statement, parameters, context)\u001b[0m\n\u001b[0;32m    951\u001b[0m                 \u001b[0mkwargs\u001b[0m \u001b[1;33m=\u001b[0m \u001b[1;33m{\u001b[0m\u001b[1;33m}\u001b[0m\u001b[1;33m\u001b[0m\u001b[1;33m\u001b[0m\u001b[0m\n\u001b[0;32m    952\u001b[0m             \u001b[0mxtras\u001b[0m \u001b[1;33m=\u001b[0m \u001b[0mself\u001b[0m\u001b[1;33m.\u001b[0m\u001b[0m_psycopg2_extras\u001b[0m\u001b[1;33m(\u001b[0m\u001b[1;33m)\u001b[0m\u001b[1;33m\u001b[0m\u001b[1;33m\u001b[0m\u001b[0m\n\u001b[1;32m--> 953\u001b[1;33m             context._psycopg2_fetched_rows = xtras.execute_values(\n\u001b[0m\u001b[0;32m    954\u001b[0m                 \u001b[0mcursor\u001b[0m\u001b[1;33m,\u001b[0m\u001b[1;33m\u001b[0m\u001b[1;33m\u001b[0m\u001b[0m\n\u001b[0;32m    955\u001b[0m                 \u001b[0mstatement\u001b[0m\u001b[1;33m,\u001b[0m\u001b[1;33m\u001b[0m\u001b[1;33m\u001b[0m\u001b[0m\n",
      "\u001b[1;32m~\\anaconda3\\lib\\site-packages\\psycopg2\\extras.py\u001b[0m in \u001b[0;36mexecute_values\u001b[1;34m(cur, sql, argslist, template, page_size, fetch)\u001b[0m\n\u001b[0;32m   1297\u001b[0m             \u001b[0mparts\u001b[0m\u001b[1;33m.\u001b[0m\u001b[0mappend\u001b[0m\u001b[1;33m(\u001b[0m\u001b[1;34mb','\u001b[0m\u001b[1;33m)\u001b[0m\u001b[1;33m\u001b[0m\u001b[1;33m\u001b[0m\u001b[0m\n\u001b[0;32m   1298\u001b[0m         \u001b[0mparts\u001b[0m\u001b[1;33m[\u001b[0m\u001b[1;33m-\u001b[0m\u001b[1;36m1\u001b[0m\u001b[1;33m:\u001b[0m\u001b[1;33m]\u001b[0m \u001b[1;33m=\u001b[0m \u001b[0mpost\u001b[0m\u001b[1;33m\u001b[0m\u001b[1;33m\u001b[0m\u001b[0m\n\u001b[1;32m-> 1299\u001b[1;33m         \u001b[0mcur\u001b[0m\u001b[1;33m.\u001b[0m\u001b[0mexecute\u001b[0m\u001b[1;33m(\u001b[0m\u001b[1;34mb''\u001b[0m\u001b[1;33m.\u001b[0m\u001b[0mjoin\u001b[0m\u001b[1;33m(\u001b[0m\u001b[0mparts\u001b[0m\u001b[1;33m)\u001b[0m\u001b[1;33m)\u001b[0m\u001b[1;33m\u001b[0m\u001b[1;33m\u001b[0m\u001b[0m\n\u001b[0m\u001b[0;32m   1300\u001b[0m         \u001b[1;32mif\u001b[0m \u001b[0mfetch\u001b[0m\u001b[1;33m:\u001b[0m\u001b[1;33m\u001b[0m\u001b[1;33m\u001b[0m\u001b[0m\n\u001b[0;32m   1301\u001b[0m             \u001b[0mresult\u001b[0m\u001b[1;33m.\u001b[0m\u001b[0mextend\u001b[0m\u001b[1;33m(\u001b[0m\u001b[0mcur\u001b[0m\u001b[1;33m.\u001b[0m\u001b[0mfetchall\u001b[0m\u001b[1;33m(\u001b[0m\u001b[1;33m)\u001b[0m\u001b[1;33m)\u001b[0m\u001b[1;33m\u001b[0m\u001b[1;33m\u001b[0m\u001b[0m\n",
      "\u001b[1;31mProgrammingError\u001b[0m: (psycopg2.errors.UndefinedColumn) column \"airport_CODE\" of relation \"airport\" does not exist\nLINE 1: INSERT INTO airport (\"airport_CODE\", \"airport_ID\", \"airports...\n                             ^\n\n[SQL: INSERT INTO airport (\"airport_CODE\", \"airport_ID\", \"airportseq_ID\", city_id) VALUES (%(airport_CODE)s, %(airport_ID)s, %(airportseq_ID)s, %(city_id)s)]\n[parameters: ({'airport_CODE': 'ABY', 'airport_ID': 10146, 'airportseq_ID': 1014602, 'city_id': 'Albany, GA'}, {'airport_CODE': 'ATL', 'airport_ID': 10397, 'airportseq_ID': 1039707, 'city_id': 'Atlanta, GA'}, {'airport_CODE': 'MOB', 'airport_ID': 13422, 'airportseq_ID': 1342202, 'city_id': 'Mobile, AL'}, {'airport_CODE': 'BUF', 'airport_ID': 10792, 'airportseq_ID': 1079206, 'city_id': 'Buffalo, NY'}, {'airport_CODE': 'BTV', 'airport_ID': 10785, 'airportseq_ID': 1078502, 'city_id': 'Burlington, VT'}, {'airport_CODE': 'CVG', 'airport_ID': 11193, 'airportseq_ID': 1119302, 'city_id': 'Cincinnati, OH'}, {'airport_CODE': 'LGA', 'airport_ID': 12953, 'airportseq_ID': 1295304, 'city_id': 'New York, NY'}, {'airport_CODE': 'CHO', 'airport_ID': 10990, 'airportseq_ID': 1099005, 'city_id': 'Charlottesville, VA'}  ... displaying 10 of 431 total bound parameter sets ...  {'airport_CODE': 'TBN', 'airport_ID': 15138, 'airportseq_ID': 1513802, 'city_id': 'Fort Leonard Wood, MO'}, {'airport_CODE': 'BIH', 'airport_ID': 10617, 'airportseq_ID': 1061705, 'city_id': 'Bishop, CA'})]\n(Background on this error at: https://sqlalche.me/e/14/f405)"
     ]
    }
   ],
   "source": [
    "# load the relation to sql\n",
    "airport_df.to_sql(name='airport', con=engine, if_exists='append', index=False)"
   ]
  },
  {
   "cell_type": "markdown",
   "id": "8d9c7867",
   "metadata": {},
   "source": [
    "#### --- route ---"
   ]
  },
  {
   "cell_type": "code",
   "execution_count": null,
   "id": "cf216182",
   "metadata": {},
   "outputs": [],
   "source": [
    "# creating our route table \n",
    "route_df = df[['Origin', 'Dest', 'Distance']]\n",
    "\n",
    "route_df = route_df.rename(columns={'Origin': 'origin', 'Dest': 'dest', 'Distance': 'distance'})\n",
    "\n",
    "route_df.head()"
   ]
  },
  {
   "cell_type": "code",
   "execution_count": null,
   "id": "6ebdcdf2",
   "metadata": {},
   "outputs": [],
   "source": [
    "# adding route_id to our route table\n",
    "route_df.insert(0, 'route_id', range(1, 1+len(route)))\n",
    "\n",
    "route_df.head()"
   ]
  },
  {
   "cell_type": "code",
   "execution_count": null,
   "id": "c71f1340",
   "metadata": {},
   "outputs": [],
   "source": [
    "# load the relation to sql\n",
    "route_df.to_sql(name='route', con=engine, if_exists='append', index=False)"
   ]
  },
  {
   "cell_type": "code",
   "execution_count": null,
   "id": "98abb50e",
   "metadata": {},
   "outputs": [],
   "source": [
    "# read id to to a seperate route_id_list\n",
    "route_id_list = [route_df.route_id[route_df.route_id == i].values[0] for i in df.route_id]\n",
    "\n",
    "# adding route_id to df\n",
    "df.insert(5, 'route_id', route_id_list)"
   ]
  },
  {
   "cell_type": "markdown",
   "id": "d0df7c3a",
   "metadata": {},
   "source": [
    "#### --- flight ---"
   ]
  },
  {
   "cell_type": "code",
   "execution_count": null,
   "id": "04faa820",
   "metadata": {},
   "outputs": [],
   "source": [
    "# creating our flight table \n",
    "flight_df = df[['FlightDate', 'Operating_Airline', 'Flight_Number_Operating_Airline', 'route_ID', 'cancelled'\n",
    "                , 'Diverted', 'CRSDepTime', 'DepTime', 'DepDelayMinutes', 'DepDelay', 'ArrTime', 'ArrDelayMinutes'\n",
    "               , 'AirTime', 'CRSElapsedTime', 'ActualElapsedTime', 'Operated_or_Branded_Code_Share_Partners  ']]\n",
    "\n",
    "flight_df = flight_df.rename(columns={'FlightDate': 'flightdate', 'Operating_Airline': 'operating_airline', \n",
    "                                      'Flight_Number_Operating_Airline': 'flight_number_operating_airline', \n",
    "                                      'route_ID': 'route_ID', 'cancelled': 'cancelled', 'Diverted': 'diverted', \n",
    "                                      'CRSDepTime': 'CRSdepTime', 'DepTime': 'depTime', \n",
    "                                      'DepDelayMinutes': 'dep_delay_minutes', 'DepDelay': 'dep_delay', \n",
    "                                      'ArrTime': 'arr_time', 'ArrDelayMinutes': 'arr_delay_minutes',\n",
    "                                      'AirTime': 'air_time', 'CRSElapsedTime': 'CRS_elapsed_time', \n",
    "                                      'ActualElapsedTime': 'actual_elapsed_time',\n",
    "                                      'Operated_or_Branded_Code_Share_Partners': 'operated_or_branded_code_share_partners'})\n",
    "\n",
    "flight_df.head()"
   ]
  },
  {
   "cell_type": "code",
   "execution_count": null,
   "id": "d1475a2c",
   "metadata": {},
   "outputs": [],
   "source": [
    "# load the relation to sql\n",
    "flight_df.to_sql(name='flight', con=engine, if_exists='append', index=False)"
   ]
  }
 ],
 "metadata": {
  "kernelspec": {
   "display_name": "Python 3 (ipykernel)",
   "language": "python",
   "name": "python3"
  },
  "language_info": {
   "codemirror_mode": {
    "name": "ipython",
    "version": 3
   },
   "file_extension": ".py",
   "mimetype": "text/x-python",
   "name": "python",
   "nbconvert_exporter": "python",
   "pygments_lexer": "ipython3",
   "version": "3.9.13"
  }
 },
 "nbformat": 4,
 "nbformat_minor": 5
}
